{
 "cells": [
  {
   "cell_type": "markdown",
   "metadata": {},
   "source": [
    "# Mobile Price Classifier"
   ]
  },
  {
   "cell_type": "markdown",
   "metadata": {},
   "source": [
    "### https://www.kaggle.com/iabhishekofficial/mobile-price-classification"
   ]
  },
  {
   "cell_type": "markdown",
   "metadata": {},
   "source": [
    "### Importing Libraries"
   ]
  },
  {
   "cell_type": "code",
   "execution_count": 1,
   "metadata": {},
   "outputs": [],
   "source": [
    "import numpy as np\n",
    "import pandas as pd\n",
    "import matplotlib.pyplot as plt\n",
    "import seaborn as sns\n",
    "\n",
    "sns.set()"
   ]
  },
  {
   "cell_type": "code",
   "execution_count": 87,
   "metadata": {},
   "outputs": [],
   "source": [
    "from sklearn.model_selection import train_test_split\n",
    "from sklearn.preprocessing import MinMaxScaler "
   ]
  },
  {
   "cell_type": "code",
   "execution_count": 88,
   "metadata": {},
   "outputs": [],
   "source": [
    "from tensorflow.keras.models import Sequential\n",
    "from tensorflow.keras.layers import Dense, Dropout\n",
    "from tensorflow.keras.callbacks import EarlyStopping"
   ]
  },
  {
   "cell_type": "markdown",
   "metadata": {},
   "source": [
    "### Load the data"
   ]
  },
  {
   "cell_type": "code",
   "execution_count": 2,
   "metadata": {},
   "outputs": [],
   "source": [
    "train_df = pd.read_csv('./train.csv')\n",
    "test_df = pd.read_csv('./test.csv')"
   ]
  },
  {
   "cell_type": "code",
   "execution_count": 5,
   "metadata": {},
   "outputs": [
    {
     "data": {
      "text/plain": [
       "((2000, 21), (1000, 21))"
      ]
     },
     "execution_count": 5,
     "metadata": {},
     "output_type": "execute_result"
    }
   ],
   "source": [
    "train_df.shape, test_df.shape"
   ]
  },
  {
   "cell_type": "code",
   "execution_count": 6,
   "metadata": {},
   "outputs": [
    {
     "data": {
      "text/html": [
       "<div>\n",
       "<style scoped>\n",
       "    .dataframe tbody tr th:only-of-type {\n",
       "        vertical-align: middle;\n",
       "    }\n",
       "\n",
       "    .dataframe tbody tr th {\n",
       "        vertical-align: top;\n",
       "    }\n",
       "\n",
       "    .dataframe thead th {\n",
       "        text-align: right;\n",
       "    }\n",
       "</style>\n",
       "<table border=\"1\" class=\"dataframe\">\n",
       "  <thead>\n",
       "    <tr style=\"text-align: right;\">\n",
       "      <th></th>\n",
       "      <th>battery_power</th>\n",
       "      <th>blue</th>\n",
       "      <th>clock_speed</th>\n",
       "      <th>dual_sim</th>\n",
       "      <th>fc</th>\n",
       "      <th>four_g</th>\n",
       "      <th>int_memory</th>\n",
       "      <th>m_dep</th>\n",
       "      <th>mobile_wt</th>\n",
       "      <th>n_cores</th>\n",
       "      <th>...</th>\n",
       "      <th>px_height</th>\n",
       "      <th>px_width</th>\n",
       "      <th>ram</th>\n",
       "      <th>sc_h</th>\n",
       "      <th>sc_w</th>\n",
       "      <th>talk_time</th>\n",
       "      <th>three_g</th>\n",
       "      <th>touch_screen</th>\n",
       "      <th>wifi</th>\n",
       "      <th>price_range</th>\n",
       "    </tr>\n",
       "  </thead>\n",
       "  <tbody>\n",
       "    <tr>\n",
       "      <th>0</th>\n",
       "      <td>842</td>\n",
       "      <td>0</td>\n",
       "      <td>2.2</td>\n",
       "      <td>0</td>\n",
       "      <td>1</td>\n",
       "      <td>0</td>\n",
       "      <td>7</td>\n",
       "      <td>0.6</td>\n",
       "      <td>188</td>\n",
       "      <td>2</td>\n",
       "      <td>...</td>\n",
       "      <td>20</td>\n",
       "      <td>756</td>\n",
       "      <td>2549</td>\n",
       "      <td>9</td>\n",
       "      <td>7</td>\n",
       "      <td>19</td>\n",
       "      <td>0</td>\n",
       "      <td>0</td>\n",
       "      <td>1</td>\n",
       "      <td>1</td>\n",
       "    </tr>\n",
       "    <tr>\n",
       "      <th>1</th>\n",
       "      <td>1021</td>\n",
       "      <td>1</td>\n",
       "      <td>0.5</td>\n",
       "      <td>1</td>\n",
       "      <td>0</td>\n",
       "      <td>1</td>\n",
       "      <td>53</td>\n",
       "      <td>0.7</td>\n",
       "      <td>136</td>\n",
       "      <td>3</td>\n",
       "      <td>...</td>\n",
       "      <td>905</td>\n",
       "      <td>1988</td>\n",
       "      <td>2631</td>\n",
       "      <td>17</td>\n",
       "      <td>3</td>\n",
       "      <td>7</td>\n",
       "      <td>1</td>\n",
       "      <td>1</td>\n",
       "      <td>0</td>\n",
       "      <td>2</td>\n",
       "    </tr>\n",
       "    <tr>\n",
       "      <th>2</th>\n",
       "      <td>563</td>\n",
       "      <td>1</td>\n",
       "      <td>0.5</td>\n",
       "      <td>1</td>\n",
       "      <td>2</td>\n",
       "      <td>1</td>\n",
       "      <td>41</td>\n",
       "      <td>0.9</td>\n",
       "      <td>145</td>\n",
       "      <td>5</td>\n",
       "      <td>...</td>\n",
       "      <td>1263</td>\n",
       "      <td>1716</td>\n",
       "      <td>2603</td>\n",
       "      <td>11</td>\n",
       "      <td>2</td>\n",
       "      <td>9</td>\n",
       "      <td>1</td>\n",
       "      <td>1</td>\n",
       "      <td>0</td>\n",
       "      <td>2</td>\n",
       "    </tr>\n",
       "    <tr>\n",
       "      <th>3</th>\n",
       "      <td>615</td>\n",
       "      <td>1</td>\n",
       "      <td>2.5</td>\n",
       "      <td>0</td>\n",
       "      <td>0</td>\n",
       "      <td>0</td>\n",
       "      <td>10</td>\n",
       "      <td>0.8</td>\n",
       "      <td>131</td>\n",
       "      <td>6</td>\n",
       "      <td>...</td>\n",
       "      <td>1216</td>\n",
       "      <td>1786</td>\n",
       "      <td>2769</td>\n",
       "      <td>16</td>\n",
       "      <td>8</td>\n",
       "      <td>11</td>\n",
       "      <td>1</td>\n",
       "      <td>0</td>\n",
       "      <td>0</td>\n",
       "      <td>2</td>\n",
       "    </tr>\n",
       "    <tr>\n",
       "      <th>4</th>\n",
       "      <td>1821</td>\n",
       "      <td>1</td>\n",
       "      <td>1.2</td>\n",
       "      <td>0</td>\n",
       "      <td>13</td>\n",
       "      <td>1</td>\n",
       "      <td>44</td>\n",
       "      <td>0.6</td>\n",
       "      <td>141</td>\n",
       "      <td>2</td>\n",
       "      <td>...</td>\n",
       "      <td>1208</td>\n",
       "      <td>1212</td>\n",
       "      <td>1411</td>\n",
       "      <td>8</td>\n",
       "      <td>2</td>\n",
       "      <td>15</td>\n",
       "      <td>1</td>\n",
       "      <td>1</td>\n",
       "      <td>0</td>\n",
       "      <td>1</td>\n",
       "    </tr>\n",
       "  </tbody>\n",
       "</table>\n",
       "<p>5 rows × 21 columns</p>\n",
       "</div>"
      ],
      "text/plain": [
       "   battery_power  blue  clock_speed  dual_sim  fc  four_g  int_memory  m_dep  \\\n",
       "0            842     0          2.2         0   1       0           7    0.6   \n",
       "1           1021     1          0.5         1   0       1          53    0.7   \n",
       "2            563     1          0.5         1   2       1          41    0.9   \n",
       "3            615     1          2.5         0   0       0          10    0.8   \n",
       "4           1821     1          1.2         0  13       1          44    0.6   \n",
       "\n",
       "   mobile_wt  n_cores  ...  px_height  px_width   ram  sc_h  sc_w  talk_time  \\\n",
       "0        188        2  ...         20       756  2549     9     7         19   \n",
       "1        136        3  ...        905      1988  2631    17     3          7   \n",
       "2        145        5  ...       1263      1716  2603    11     2          9   \n",
       "3        131        6  ...       1216      1786  2769    16     8         11   \n",
       "4        141        2  ...       1208      1212  1411     8     2         15   \n",
       "\n",
       "   three_g  touch_screen  wifi  price_range  \n",
       "0        0             0     1            1  \n",
       "1        1             1     0            2  \n",
       "2        1             1     0            2  \n",
       "3        1             0     0            2  \n",
       "4        1             1     0            1  \n",
       "\n",
       "[5 rows x 21 columns]"
      ]
     },
     "execution_count": 6,
     "metadata": {},
     "output_type": "execute_result"
    }
   ],
   "source": [
    "train_df.head()"
   ]
  },
  {
   "cell_type": "markdown",
   "metadata": {},
   "source": [
    "## Data Visualization"
   ]
  },
  {
   "cell_type": "code",
   "execution_count": 23,
   "metadata": {},
   "outputs": [
    {
     "data": {
      "text/html": [
       "<div>\n",
       "<style scoped>\n",
       "    .dataframe tbody tr th:only-of-type {\n",
       "        vertical-align: middle;\n",
       "    }\n",
       "\n",
       "    .dataframe tbody tr th {\n",
       "        vertical-align: top;\n",
       "    }\n",
       "\n",
       "    .dataframe thead th {\n",
       "        text-align: right;\n",
       "    }\n",
       "</style>\n",
       "<table border=\"1\" class=\"dataframe\">\n",
       "  <thead>\n",
       "    <tr style=\"text-align: right;\">\n",
       "      <th></th>\n",
       "      <th>battery_power</th>\n",
       "      <th>blue</th>\n",
       "      <th>clock_speed</th>\n",
       "      <th>dual_sim</th>\n",
       "      <th>fc</th>\n",
       "      <th>four_g</th>\n",
       "      <th>int_memory</th>\n",
       "      <th>m_dep</th>\n",
       "      <th>mobile_wt</th>\n",
       "      <th>n_cores</th>\n",
       "      <th>...</th>\n",
       "      <th>px_height</th>\n",
       "      <th>px_width</th>\n",
       "      <th>ram</th>\n",
       "      <th>sc_h</th>\n",
       "      <th>sc_w</th>\n",
       "      <th>talk_time</th>\n",
       "      <th>three_g</th>\n",
       "      <th>touch_screen</th>\n",
       "      <th>wifi</th>\n",
       "      <th>price_range</th>\n",
       "    </tr>\n",
       "  </thead>\n",
       "  <tbody>\n",
       "    <tr>\n",
       "      <th>count</th>\n",
       "      <td>2000.000000</td>\n",
       "      <td>2000.0000</td>\n",
       "      <td>2000.000000</td>\n",
       "      <td>2000.000000</td>\n",
       "      <td>2000.000000</td>\n",
       "      <td>2000.000000</td>\n",
       "      <td>2000.000000</td>\n",
       "      <td>2000.000000</td>\n",
       "      <td>2000.000000</td>\n",
       "      <td>2000.000000</td>\n",
       "      <td>...</td>\n",
       "      <td>2000.000000</td>\n",
       "      <td>2000.000000</td>\n",
       "      <td>2000.000000</td>\n",
       "      <td>2000.000000</td>\n",
       "      <td>2000.000000</td>\n",
       "      <td>2000.000000</td>\n",
       "      <td>2000.000000</td>\n",
       "      <td>2000.000000</td>\n",
       "      <td>2000.000000</td>\n",
       "      <td>2000.000000</td>\n",
       "    </tr>\n",
       "    <tr>\n",
       "      <th>mean</th>\n",
       "      <td>1238.518500</td>\n",
       "      <td>0.4950</td>\n",
       "      <td>1.522250</td>\n",
       "      <td>0.509500</td>\n",
       "      <td>4.309500</td>\n",
       "      <td>0.521500</td>\n",
       "      <td>32.046500</td>\n",
       "      <td>0.501750</td>\n",
       "      <td>140.249000</td>\n",
       "      <td>4.520500</td>\n",
       "      <td>...</td>\n",
       "      <td>645.108000</td>\n",
       "      <td>1251.515500</td>\n",
       "      <td>2124.213000</td>\n",
       "      <td>12.306500</td>\n",
       "      <td>5.767000</td>\n",
       "      <td>11.011000</td>\n",
       "      <td>0.761500</td>\n",
       "      <td>0.503000</td>\n",
       "      <td>0.507000</td>\n",
       "      <td>1.500000</td>\n",
       "    </tr>\n",
       "    <tr>\n",
       "      <th>std</th>\n",
       "      <td>439.418206</td>\n",
       "      <td>0.5001</td>\n",
       "      <td>0.816004</td>\n",
       "      <td>0.500035</td>\n",
       "      <td>4.341444</td>\n",
       "      <td>0.499662</td>\n",
       "      <td>18.145715</td>\n",
       "      <td>0.288416</td>\n",
       "      <td>35.399655</td>\n",
       "      <td>2.287837</td>\n",
       "      <td>...</td>\n",
       "      <td>443.780811</td>\n",
       "      <td>432.199447</td>\n",
       "      <td>1084.732044</td>\n",
       "      <td>4.213245</td>\n",
       "      <td>4.356398</td>\n",
       "      <td>5.463955</td>\n",
       "      <td>0.426273</td>\n",
       "      <td>0.500116</td>\n",
       "      <td>0.500076</td>\n",
       "      <td>1.118314</td>\n",
       "    </tr>\n",
       "    <tr>\n",
       "      <th>min</th>\n",
       "      <td>501.000000</td>\n",
       "      <td>0.0000</td>\n",
       "      <td>0.500000</td>\n",
       "      <td>0.000000</td>\n",
       "      <td>0.000000</td>\n",
       "      <td>0.000000</td>\n",
       "      <td>2.000000</td>\n",
       "      <td>0.100000</td>\n",
       "      <td>80.000000</td>\n",
       "      <td>1.000000</td>\n",
       "      <td>...</td>\n",
       "      <td>0.000000</td>\n",
       "      <td>500.000000</td>\n",
       "      <td>256.000000</td>\n",
       "      <td>5.000000</td>\n",
       "      <td>0.000000</td>\n",
       "      <td>2.000000</td>\n",
       "      <td>0.000000</td>\n",
       "      <td>0.000000</td>\n",
       "      <td>0.000000</td>\n",
       "      <td>0.000000</td>\n",
       "    </tr>\n",
       "    <tr>\n",
       "      <th>25%</th>\n",
       "      <td>851.750000</td>\n",
       "      <td>0.0000</td>\n",
       "      <td>0.700000</td>\n",
       "      <td>0.000000</td>\n",
       "      <td>1.000000</td>\n",
       "      <td>0.000000</td>\n",
       "      <td>16.000000</td>\n",
       "      <td>0.200000</td>\n",
       "      <td>109.000000</td>\n",
       "      <td>3.000000</td>\n",
       "      <td>...</td>\n",
       "      <td>282.750000</td>\n",
       "      <td>874.750000</td>\n",
       "      <td>1207.500000</td>\n",
       "      <td>9.000000</td>\n",
       "      <td>2.000000</td>\n",
       "      <td>6.000000</td>\n",
       "      <td>1.000000</td>\n",
       "      <td>0.000000</td>\n",
       "      <td>0.000000</td>\n",
       "      <td>0.750000</td>\n",
       "    </tr>\n",
       "    <tr>\n",
       "      <th>50%</th>\n",
       "      <td>1226.000000</td>\n",
       "      <td>0.0000</td>\n",
       "      <td>1.500000</td>\n",
       "      <td>1.000000</td>\n",
       "      <td>3.000000</td>\n",
       "      <td>1.000000</td>\n",
       "      <td>32.000000</td>\n",
       "      <td>0.500000</td>\n",
       "      <td>141.000000</td>\n",
       "      <td>4.000000</td>\n",
       "      <td>...</td>\n",
       "      <td>564.000000</td>\n",
       "      <td>1247.000000</td>\n",
       "      <td>2146.500000</td>\n",
       "      <td>12.000000</td>\n",
       "      <td>5.000000</td>\n",
       "      <td>11.000000</td>\n",
       "      <td>1.000000</td>\n",
       "      <td>1.000000</td>\n",
       "      <td>1.000000</td>\n",
       "      <td>1.500000</td>\n",
       "    </tr>\n",
       "    <tr>\n",
       "      <th>75%</th>\n",
       "      <td>1615.250000</td>\n",
       "      <td>1.0000</td>\n",
       "      <td>2.200000</td>\n",
       "      <td>1.000000</td>\n",
       "      <td>7.000000</td>\n",
       "      <td>1.000000</td>\n",
       "      <td>48.000000</td>\n",
       "      <td>0.800000</td>\n",
       "      <td>170.000000</td>\n",
       "      <td>7.000000</td>\n",
       "      <td>...</td>\n",
       "      <td>947.250000</td>\n",
       "      <td>1633.000000</td>\n",
       "      <td>3064.500000</td>\n",
       "      <td>16.000000</td>\n",
       "      <td>9.000000</td>\n",
       "      <td>16.000000</td>\n",
       "      <td>1.000000</td>\n",
       "      <td>1.000000</td>\n",
       "      <td>1.000000</td>\n",
       "      <td>2.250000</td>\n",
       "    </tr>\n",
       "    <tr>\n",
       "      <th>max</th>\n",
       "      <td>1998.000000</td>\n",
       "      <td>1.0000</td>\n",
       "      <td>3.000000</td>\n",
       "      <td>1.000000</td>\n",
       "      <td>19.000000</td>\n",
       "      <td>1.000000</td>\n",
       "      <td>64.000000</td>\n",
       "      <td>1.000000</td>\n",
       "      <td>200.000000</td>\n",
       "      <td>8.000000</td>\n",
       "      <td>...</td>\n",
       "      <td>1960.000000</td>\n",
       "      <td>1998.000000</td>\n",
       "      <td>3998.000000</td>\n",
       "      <td>19.000000</td>\n",
       "      <td>18.000000</td>\n",
       "      <td>20.000000</td>\n",
       "      <td>1.000000</td>\n",
       "      <td>1.000000</td>\n",
       "      <td>1.000000</td>\n",
       "      <td>3.000000</td>\n",
       "    </tr>\n",
       "  </tbody>\n",
       "</table>\n",
       "<p>8 rows × 21 columns</p>\n",
       "</div>"
      ],
      "text/plain": [
       "       battery_power       blue  clock_speed     dual_sim           fc  \\\n",
       "count    2000.000000  2000.0000  2000.000000  2000.000000  2000.000000   \n",
       "mean     1238.518500     0.4950     1.522250     0.509500     4.309500   \n",
       "std       439.418206     0.5001     0.816004     0.500035     4.341444   \n",
       "min       501.000000     0.0000     0.500000     0.000000     0.000000   \n",
       "25%       851.750000     0.0000     0.700000     0.000000     1.000000   \n",
       "50%      1226.000000     0.0000     1.500000     1.000000     3.000000   \n",
       "75%      1615.250000     1.0000     2.200000     1.000000     7.000000   \n",
       "max      1998.000000     1.0000     3.000000     1.000000    19.000000   \n",
       "\n",
       "            four_g   int_memory        m_dep    mobile_wt      n_cores  ...  \\\n",
       "count  2000.000000  2000.000000  2000.000000  2000.000000  2000.000000  ...   \n",
       "mean      0.521500    32.046500     0.501750   140.249000     4.520500  ...   \n",
       "std       0.499662    18.145715     0.288416    35.399655     2.287837  ...   \n",
       "min       0.000000     2.000000     0.100000    80.000000     1.000000  ...   \n",
       "25%       0.000000    16.000000     0.200000   109.000000     3.000000  ...   \n",
       "50%       1.000000    32.000000     0.500000   141.000000     4.000000  ...   \n",
       "75%       1.000000    48.000000     0.800000   170.000000     7.000000  ...   \n",
       "max       1.000000    64.000000     1.000000   200.000000     8.000000  ...   \n",
       "\n",
       "         px_height     px_width          ram         sc_h         sc_w  \\\n",
       "count  2000.000000  2000.000000  2000.000000  2000.000000  2000.000000   \n",
       "mean    645.108000  1251.515500  2124.213000    12.306500     5.767000   \n",
       "std     443.780811   432.199447  1084.732044     4.213245     4.356398   \n",
       "min       0.000000   500.000000   256.000000     5.000000     0.000000   \n",
       "25%     282.750000   874.750000  1207.500000     9.000000     2.000000   \n",
       "50%     564.000000  1247.000000  2146.500000    12.000000     5.000000   \n",
       "75%     947.250000  1633.000000  3064.500000    16.000000     9.000000   \n",
       "max    1960.000000  1998.000000  3998.000000    19.000000    18.000000   \n",
       "\n",
       "         talk_time      three_g  touch_screen         wifi  price_range  \n",
       "count  2000.000000  2000.000000   2000.000000  2000.000000  2000.000000  \n",
       "mean     11.011000     0.761500      0.503000     0.507000     1.500000  \n",
       "std       5.463955     0.426273      0.500116     0.500076     1.118314  \n",
       "min       2.000000     0.000000      0.000000     0.000000     0.000000  \n",
       "25%       6.000000     1.000000      0.000000     0.000000     0.750000  \n",
       "50%      11.000000     1.000000      1.000000     1.000000     1.500000  \n",
       "75%      16.000000     1.000000      1.000000     1.000000     2.250000  \n",
       "max      20.000000     1.000000      1.000000     1.000000     3.000000  \n",
       "\n",
       "[8 rows x 21 columns]"
      ]
     },
     "execution_count": 23,
     "metadata": {},
     "output_type": "execute_result"
    }
   ],
   "source": [
    "train_df.describe()"
   ]
  },
  {
   "cell_type": "code",
   "execution_count": 11,
   "metadata": {},
   "outputs": [
    {
     "name": "stdout",
     "output_type": "stream",
     "text": [
      "<class 'pandas.core.frame.DataFrame'>\n",
      "RangeIndex: 2000 entries, 0 to 1999\n",
      "Data columns (total 21 columns):\n",
      " #   Column         Non-Null Count  Dtype  \n",
      "---  ------         --------------  -----  \n",
      " 0   battery_power  2000 non-null   int64  \n",
      " 1   blue           2000 non-null   int64  \n",
      " 2   clock_speed    2000 non-null   float64\n",
      " 3   dual_sim       2000 non-null   int64  \n",
      " 4   fc             2000 non-null   int64  \n",
      " 5   four_g         2000 non-null   int64  \n",
      " 6   int_memory     2000 non-null   int64  \n",
      " 7   m_dep          2000 non-null   float64\n",
      " 8   mobile_wt      2000 non-null   int64  \n",
      " 9   n_cores        2000 non-null   int64  \n",
      " 10  pc             2000 non-null   int64  \n",
      " 11  px_height      2000 non-null   int64  \n",
      " 12  px_width       2000 non-null   int64  \n",
      " 13  ram            2000 non-null   int64  \n",
      " 14  sc_h           2000 non-null   int64  \n",
      " 15  sc_w           2000 non-null   int64  \n",
      " 16  talk_time      2000 non-null   int64  \n",
      " 17  three_g        2000 non-null   int64  \n",
      " 18  touch_screen   2000 non-null   int64  \n",
      " 19  wifi           2000 non-null   int64  \n",
      " 20  price_range    2000 non-null   int64  \n",
      "dtypes: float64(2), int64(19)\n",
      "memory usage: 328.2 KB\n"
     ]
    }
   ],
   "source": [
    "train_df.info()"
   ]
  },
  {
   "cell_type": "markdown",
   "metadata": {},
   "source": [
    "### Checking Null Values"
   ]
  },
  {
   "cell_type": "code",
   "execution_count": 9,
   "metadata": {},
   "outputs": [
    {
     "data": {
      "text/plain": [
       "<matplotlib.axes._subplots.AxesSubplot at 0x170853c0eb0>"
      ]
     },
     "execution_count": 9,
     "metadata": {},
     "output_type": "execute_result"
    },
    {
     "data": {
      "image/png": "[encoded data removed]",
      "text/plain": [
       "<Figure size 432x288 with 2 Axes>"
      ]
     },
     "metadata": {},
     "output_type": "display_data"
    }
   ],
   "source": [
    "sns.heatmap(train_df.isnull())"
   ]
  },
  {
   "cell_type": "code",
   "execution_count": 10,
   "metadata": {},
   "outputs": [
    {
     "data": {
      "text/plain": [
       "<matplotlib.axes._subplots.AxesSubplot at 0x170850a9610>"
      ]
     },
     "execution_count": 10,
     "metadata": {},
     "output_type": "execute_result"
    },
    {
     "data": {
      "image/png": "[encoded data removed]",
      "text/plain": [
       "<Figure size 432x288 with 2 Axes>"
      ]
     },
     "metadata": {},
     "output_type": "display_data"
    }
   ],
   "source": [
    "sns.heatmap(test_df.isnull())"
   ]
  },
  {
   "cell_type": "markdown",
   "metadata": {},
   "source": [
    "### Battery Power"
   ]
  },
  {
   "cell_type": "code",
   "execution_count": 19,
   "metadata": {},
   "outputs": [
    {
     "data": {
      "text/plain": [
       "count    2000.000000\n",
       "mean     1238.518500\n",
       "std       439.418206\n",
       "min       501.000000\n",
       "25%       851.750000\n",
       "50%      1226.000000\n",
       "75%      1615.250000\n",
       "max      1998.000000\n",
       "Name: battery_power, dtype: float64"
      ]
     },
     "execution_count": 19,
     "metadata": {},
     "output_type": "execute_result"
    }
   ],
   "source": [
    "train_df['battery_power'].describe()"
   ]
  },
  {
   "cell_type": "code",
   "execution_count": 22,
   "metadata": {},
   "outputs": [
    {
     "data": {
      "image/png": "[encoded data removed]",
      "text/plain": [
       "<Figure size 432x288 with 1 Axes>"
      ]
     },
     "metadata": {},
     "output_type": "display_data"
    }
   ],
   "source": [
    "plt.hist(train_df['battery_power'],bins=40)\n",
    "plt.show()"
   ]
  },
  {
   "cell_type": "markdown",
   "metadata": {},
   "source": [
    "### Bluetooth"
   ]
  },
  {
   "cell_type": "code",
   "execution_count": 24,
   "metadata": {},
   "outputs": [
    {
     "data": {
      "text/plain": [
       "<matplotlib.axes._subplots.AxesSubplot at 0x1708755a6a0>"
      ]
     },
     "execution_count": 24,
     "metadata": {},
     "output_type": "execute_result"
    },
    {
     "data": {
      "image/png": "[encoded data removed]",
      "text/plain": [
       "<Figure size 432x288 with 1 Axes>"
      ]
     },
     "metadata": {},
     "output_type": "display_data"
    }
   ],
   "source": [
    "sns.barplot(train_df['blue'],train_df['price_range'])"
   ]
  },
  {
   "cell_type": "markdown",
   "metadata": {},
   "source": [
    "### No of cores"
   ]
  },
  {
   "cell_type": "code",
   "execution_count": 27,
   "metadata": {},
   "outputs": [
    {
     "data": {
      "text/plain": [
       "<matplotlib.axes._subplots.AxesSubplot at 0x17087015f70>"
      ]
     },
     "execution_count": 27,
     "metadata": {},
     "output_type": "execute_result"
    },
    {
     "data": {
      "image/png": "[encoded data removed]",
      "text/plain": [
       "<Figure size 432x288 with 1 Axes>"
      ]
     },
     "metadata": {},
     "output_type": "display_data"
    }
   ],
   "source": [
    "sns.barplot(train_df['n_cores'],train_df['price_range'])"
   ]
  },
  {
   "cell_type": "code",
   "execution_count": 46,
   "metadata": {},
   "outputs": [
    {
     "data": {
      "text/plain": [
       "<matplotlib.axes._subplots.AxesSubplot at 0x1708bfb6550>"
      ]
     },
     "execution_count": 46,
     "metadata": {},
     "output_type": "execute_result"
    },
    {
     "data": {
      "image/png": "[encoded data removed]",
      "text/plain": [
       "<Figure size 432x288 with 1 Axes>"
      ]
     },
     "metadata": {},
     "output_type": "display_data"
    }
   ],
   "source": [
    "pd.crosstab(train_df['n_cores'],train_df['touch_screen']).plot(kind='bar')"
   ]
  },
  {
   "cell_type": "markdown",
   "metadata": {},
   "source": [
    "### Ram"
   ]
  },
  {
   "cell_type": "code",
   "execution_count": 33,
   "metadata": {},
   "outputs": [
    {
     "data": {
      "text/plain": [
       "<matplotlib.axes._subplots.AxesSubplot at 0x17087b355b0>"
      ]
     },
     "execution_count": 33,
     "metadata": {},
     "output_type": "execute_result"
    },
    {
     "data": {
      "image/png": "[encoded data removed]",
      "text/plain": [
       "<Figure size 432x288 with 1 Axes>"
      ]
     },
     "metadata": {},
     "output_type": "display_data"
    }
   ],
   "source": [
    "sns.distplot(train_df['ram'])"
   ]
  },
  {
   "cell_type": "markdown",
   "metadata": {},
   "source": [
    "### Touch Screen "
   ]
  },
  {
   "cell_type": "code",
   "execution_count": 34,
   "metadata": {},
   "outputs": [
    {
     "data": {
      "text/plain": [
       "<matplotlib.axes._subplots.AxesSubplot at 0x17087ba7880>"
      ]
     },
     "execution_count": 34,
     "metadata": {},
     "output_type": "execute_result"
    },
    {
     "data": {
      "image/png": "[encoded data removed]",
      "text/plain": [
       "<Figure size 432x288 with 1 Axes>"
      ]
     },
     "metadata": {},
     "output_type": "display_data"
    }
   ],
   "source": [
    "sns.barplot(train_df['touch_screen'],train_df['price_range'])"
   ]
  },
  {
   "cell_type": "code",
   "execution_count": 47,
   "metadata": {},
   "outputs": [
    {
     "data": {
      "text/plain": [
       "<matplotlib.axes._subplots.AxesSubplot at 0x1708bfb61f0>"
      ]
     },
     "execution_count": 47,
     "metadata": {},
     "output_type": "execute_result"
    },
    {
     "data": {
      "image/png": "[encoded data removed]",
      "text/plain": [
       "<Figure size 432x288 with 1 Axes>"
      ]
     },
     "metadata": {},
     "output_type": "display_data"
    }
   ],
   "source": [
    "pd.crosstab(train_df['price_range'],train_df['touch_screen']).plot(kind='bar')"
   ]
  },
  {
   "cell_type": "markdown",
   "metadata": {},
   "source": [
    "### Dual Sim"
   ]
  },
  {
   "cell_type": "code",
   "execution_count": 51,
   "metadata": {},
   "outputs": [
    {
     "data": {
      "text/plain": [
       "<matplotlib.axes._subplots.AxesSubplot at 0x1708e0d0dc0>"
      ]
     },
     "execution_count": 51,
     "metadata": {},
     "output_type": "execute_result"
    },
    {
     "data": {
      "image/png": "[encoded data removed]",
      "text/plain": [
       "<Figure size 432x288 with 1 Axes>"
      ]
     },
     "metadata": {},
     "output_type": "display_data"
    }
   ],
   "source": [
    "pd.crosstab(train_df['price_range'],train_df['dual_sim']).plot(kind='bar')"
   ]
  },
  {
   "cell_type": "markdown",
   "metadata": {},
   "source": [
    "### Dependent & Independent Variables"
   ]
  },
  {
   "cell_type": "code",
   "execution_count": 91,
   "metadata": {},
   "outputs": [
    {
     "data": {
      "text/plain": [
       "array([1, 2, 3, 0], dtype=int64)"
      ]
     },
     "execution_count": 91,
     "metadata": {},
     "output_type": "execute_result"
    }
   ],
   "source": [
    "train_df['price_range'].unique()"
   ]
  },
  {
   "cell_type": "markdown",
   "metadata": {},
   "source": [
    "- 0 (low cost)\n",
    "- 1 (medium cost)\n",
    "- 2 (high cost)\n",
    "- 3 (very high cost)"
   ]
  },
  {
   "cell_type": "code",
   "execution_count": 92,
   "metadata": {},
   "outputs": [],
   "source": [
    "X = train_df.drop('price_range',axis=1).values\n",
    "y = train_df['price_range'].values"
   ]
  },
  {
   "cell_type": "markdown",
   "metadata": {},
   "source": [
    "## Train Test Split"
   ]
  },
  {
   "cell_type": "code",
   "execution_count": 93,
   "metadata": {},
   "outputs": [],
   "source": [
    "X_train, X_test, y_train, y_test = train_test_split(X, y, test_size=0.20)"
   ]
  },
  {
   "cell_type": "markdown",
   "metadata": {},
   "source": [
    "## Standardization"
   ]
  },
  {
   "cell_type": "code",
   "execution_count": 94,
   "metadata": {},
   "outputs": [],
   "source": [
    "scaler = MinMaxScaler()\n",
    "\n",
    "scaled_X_train = scaler.fit_transform(X_train)\n",
    "scaled_X_test = scaler.transform(X_test)"
   ]
  },
  {
   "cell_type": "markdown",
   "metadata": {},
   "source": [
    "## ANN Model Training"
   ]
  },
  {
   "cell_type": "code",
   "execution_count": 96,
   "metadata": {},
   "outputs": [],
   "source": [
    "model = Sequential()\n",
    "\n",
    "model.add(Dense(units=20,activation='relu'))\n",
    "model.add(Dense(units=10,activation='relu'))\n",
    "model.add(Dense(units=5,activation='relu'))\n",
    "\n",
    "# BINARY CLASSIFICATION\n",
    "model.add(Dense(units=4,activation='softmax'))\n",
    "\n",
    "model.compile(optimizer='adam',loss='sparse_categorical_crossentropy', metrics=['accuracy'])"
   ]
  },
  {
   "cell_type": "code",
   "execution_count": 97,
   "metadata": {},
   "outputs": [],
   "source": [
    "early_stop = EarlyStopping(monitor='val_loss',mode='min', verbose=1, patience=25)"
   ]
  },
  {
   "cell_type": "code",
   "execution_count": 98,
   "metadata": {},
   "outputs": [
    {
     "name": "stdout",
     "output_type": "stream",
     "text": [
      "Epoch 1/500\n",
      "50/50 [==============================] - 1s 8ms/step - loss: 1.4308 - accuracy: 0.2513 - val_loss: 1.3906 - val_accuracy: 0.2450\n",
      "Epoch 2/500\n",
      "50/50 [==============================] - 0s 5ms/step - loss: 1.3841 - accuracy: 0.2497 - val_loss: 1.3810 - val_accuracy: 0.2900\n",
      "Epoch 3/500\n",
      "50/50 [==============================] - 0s 3ms/step - loss: 1.3744 - accuracy: 0.2917 - val_loss: 1.3625 - val_accuracy: 0.3450\n",
      "Epoch 4/500\n",
      "50/50 [==============================] - 0s 3ms/step - loss: 1.3523 - accuracy: 0.3297 - val_loss: 1.3280 - val_accuracy: 0.4050\n",
      "Epoch 5/500\n",
      "50/50 [==============================] - 0s 3ms/step - loss: 1.3087 - accuracy: 0.3909 - val_loss: 1.2615 - val_accuracy: 0.4275\n",
      "Epoch 6/500\n",
      "50/50 [==============================] - 0s 3ms/step - loss: 1.2359 - accuracy: 0.4088 - val_loss: 1.1486 - val_accuracy: 0.4475\n",
      "Epoch 7/500\n",
      "50/50 [==============================] - 0s 3ms/step - loss: 1.1053 - accuracy: 0.4644 - val_loss: 1.0323 - val_accuracy: 0.4350\n",
      "Epoch 8/500\n",
      "50/50 [==============================] - 0s 3ms/step - loss: 1.0105 - accuracy: 0.4346 - val_loss: 0.9156 - val_accuracy: 0.4700\n",
      "Epoch 9/500\n",
      "50/50 [==============================] - 0s 4ms/step - loss: 0.8946 - accuracy: 0.4814 - val_loss: 0.8154 - val_accuracy: 0.6550\n",
      "Epoch 10/500\n",
      "50/50 [==============================] - 0s 3ms/step - loss: 0.7982 - accuracy: 0.7086 - val_loss: 0.7174 - val_accuracy: 0.8200\n",
      "Epoch 11/500\n",
      "50/50 [==============================] - 0s 4ms/step - loss: 0.7111 - accuracy: 0.7878 - val_loss: 0.6136 - val_accuracy: 0.8675\n",
      "Epoch 12/500\n",
      "50/50 [==============================] - 0s 4ms/step - loss: 0.6207 - accuracy: 0.8130 - val_loss: 0.5349 - val_accuracy: 0.8725\n",
      "Epoch 13/500\n",
      "50/50 [==============================] - 0s 3ms/step - loss: 0.5451 - accuracy: 0.8269 - val_loss: 0.4767 - val_accuracy: 0.8625\n",
      "Epoch 14/500\n",
      "50/50 [==============================] - 0s 3ms/step - loss: 0.4902 - accuracy: 0.8463 - val_loss: 0.4239 - val_accuracy: 0.8875\n",
      "Epoch 15/500\n",
      "50/50 [==============================] - 0s 4ms/step - loss: 0.4456 - accuracy: 0.8543 - val_loss: 0.3924 - val_accuracy: 0.8850\n",
      "Epoch 16/500\n",
      "50/50 [==============================] - 0s 2ms/step - loss: 0.4149 - accuracy: 0.8542 - val_loss: 0.3592 - val_accuracy: 0.8975\n",
      "Epoch 17/500\n",
      "50/50 [==============================] - 0s 2ms/step - loss: 0.3955 - accuracy: 0.8534 - val_loss: 0.3509 - val_accuracy: 0.8800\n",
      "Epoch 18/500\n",
      "50/50 [==============================] - 0s 2ms/step - loss: 0.3497 - accuracy: 0.8939 - val_loss: 0.3113 - val_accuracy: 0.9150\n",
      "Epoch 19/500\n",
      "50/50 [==============================] - 0s 2ms/step - loss: 0.3351 - accuracy: 0.8942 - val_loss: 0.2936 - val_accuracy: 0.9200\n",
      "Epoch 20/500\n",
      "50/50 [==============================] - 0s 2ms/step - loss: 0.3066 - accuracy: 0.8947 - val_loss: 0.2753 - val_accuracy: 0.9325\n",
      "Epoch 21/500\n",
      "50/50 [==============================] - 0s 2ms/step - loss: 0.2998 - accuracy: 0.9086 - val_loss: 0.2974 - val_accuracy: 0.8800\n",
      "Epoch 22/500\n",
      "50/50 [==============================] - 0s 2ms/step - loss: 0.2849 - accuracy: 0.9130 - val_loss: 0.2514 - val_accuracy: 0.9275\n",
      "Epoch 23/500\n",
      "50/50 [==============================] - 0s 2ms/step - loss: 0.2781 - accuracy: 0.9063 - val_loss: 0.2486 - val_accuracy: 0.9250\n",
      "Epoch 24/500\n",
      "50/50 [==============================] - 0s 2ms/step - loss: 0.2546 - accuracy: 0.9167 - val_loss: 0.2328 - val_accuracy: 0.9300\n",
      "Epoch 25/500\n",
      "50/50 [==============================] - 0s 2ms/step - loss: 0.2491 - accuracy: 0.9211 - val_loss: 0.2268 - val_accuracy: 0.9175\n",
      "Epoch 26/500\n",
      "50/50 [==============================] - 0s 2ms/step - loss: 0.2507 - accuracy: 0.9061 - val_loss: 0.2268 - val_accuracy: 0.9200\n",
      "Epoch 27/500\n",
      "50/50 [==============================] - 0s 2ms/step - loss: 0.2317 - accuracy: 0.9216 - val_loss: 0.2088 - val_accuracy: 0.9275\n",
      "Epoch 28/500\n",
      "50/50 [==============================] - 0s 2ms/step - loss: 0.2044 - accuracy: 0.9389 - val_loss: 0.2006 - val_accuracy: 0.9350\n",
      "Epoch 29/500\n",
      "50/50 [==============================] - 0s 2ms/step - loss: 0.2249 - accuracy: 0.9149 - val_loss: 0.2058 - val_accuracy: 0.9200\n",
      "Epoch 30/500\n",
      "50/50 [==============================] - 0s 2ms/step - loss: 0.2120 - accuracy: 0.9298 - val_loss: 0.2196 - val_accuracy: 0.9225\n",
      "Epoch 31/500\n",
      "50/50 [==============================] - 0s 2ms/step - loss: 0.2096 - accuracy: 0.9308 - val_loss: 0.1848 - val_accuracy: 0.9375\n",
      "Epoch 32/500\n",
      "50/50 [==============================] - 0s 2ms/step - loss: 0.1947 - accuracy: 0.9374 - val_loss: 0.1858 - val_accuracy: 0.9425\n",
      "Epoch 33/500\n",
      "50/50 [==============================] - 0s 2ms/step - loss: 0.1942 - accuracy: 0.9322 - val_loss: 0.2012 - val_accuracy: 0.9225\n",
      "Epoch 34/500\n",
      "50/50 [==============================] - 0s 2ms/step - loss: 0.2009 - accuracy: 0.9304 - val_loss: 0.1934 - val_accuracy: 0.9250\n",
      "Epoch 35/500\n",
      "50/50 [==============================] - 0s 2ms/step - loss: 0.1945 - accuracy: 0.9328 - val_loss: 0.1787 - val_accuracy: 0.9350\n",
      "Epoch 36/500\n",
      "50/50 [==============================] - 0s 2ms/step - loss: 0.1703 - accuracy: 0.9498 - val_loss: 0.1678 - val_accuracy: 0.9350\n",
      "Epoch 37/500\n",
      "50/50 [==============================] - 0s 2ms/step - loss: 0.1700 - accuracy: 0.9448 - val_loss: 0.1688 - val_accuracy: 0.9300\n",
      "Epoch 38/500\n",
      "50/50 [==============================] - 0s 3ms/step - loss: 0.1768 - accuracy: 0.9444 - val_loss: 0.1605 - val_accuracy: 0.9400\n",
      "Epoch 39/500\n",
      "50/50 [==============================] - 0s 2ms/step - loss: 0.1677 - accuracy: 0.9434 - val_loss: 0.1565 - val_accuracy: 0.9450\n",
      "Epoch 40/500\n",
      "50/50 [==============================] - 0s 2ms/step - loss: 0.1602 - accuracy: 0.9503 - val_loss: 0.1865 - val_accuracy: 0.9200\n",
      "Epoch 41/500\n",
      "50/50 [==============================] - 0s 2ms/step - loss: 0.1605 - accuracy: 0.9427 - val_loss: 0.1549 - val_accuracy: 0.9400\n",
      "Epoch 42/500\n",
      "50/50 [==============================] - 0s 2ms/step - loss: 0.1488 - accuracy: 0.9568 - val_loss: 0.1593 - val_accuracy: 0.9375\n",
      "Epoch 43/500\n",
      "50/50 [==============================] - 0s 3ms/step - loss: 0.1539 - accuracy: 0.9448 - val_loss: 0.1484 - val_accuracy: 0.9450\n",
      "Epoch 44/500\n",
      "50/50 [==============================] - 0s 2ms/step - loss: 0.1428 - accuracy: 0.9559 - val_loss: 0.1686 - val_accuracy: 0.9275\n",
      "Epoch 45/500\n",
      "50/50 [==============================] - 0s 2ms/step - loss: 0.1448 - accuracy: 0.9514 - val_loss: 0.1426 - val_accuracy: 0.9550\n",
      "Epoch 46/500\n",
      "50/50 [==============================] - 0s 3ms/step - loss: 0.1533 - accuracy: 0.9455 - val_loss: 0.1409 - val_accuracy: 0.9500\n",
      "Epoch 47/500\n",
      "50/50 [==============================] - 0s 2ms/step - loss: 0.1366 - accuracy: 0.9661 - val_loss: 0.1454 - val_accuracy: 0.9425\n",
      "Epoch 48/500\n",
      "50/50 [==============================] - 0s 2ms/step - loss: 0.1429 - accuracy: 0.9521 - val_loss: 0.1582 - val_accuracy: 0.9325\n",
      "Epoch 49/500\n",
      "50/50 [==============================] - 0s 2ms/step - loss: 0.1280 - accuracy: 0.9605 - val_loss: 0.1450 - val_accuracy: 0.9425\n",
      "Epoch 50/500\n",
      "50/50 [==============================] - 0s 2ms/step - loss: 0.1281 - accuracy: 0.9596 - val_loss: 0.1425 - val_accuracy: 0.9450\n",
      "Epoch 51/500\n",
      "50/50 [==============================] - 0s 2ms/step - loss: 0.1361 - accuracy: 0.9557 - val_loss: 0.1455 - val_accuracy: 0.9450\n",
      "Epoch 52/500\n",
      "50/50 [==============================] - 0s 2ms/step - loss: 0.1373 - accuracy: 0.9487 - val_loss: 0.1337 - val_accuracy: 0.9475\n",
      "Epoch 53/500\n",
      "50/50 [==============================] - 0s 3ms/step - loss: 0.1224 - accuracy: 0.9645 - val_loss: 0.1352 - val_accuracy: 0.9425\n",
      "Epoch 54/500\n",
      "50/50 [==============================] - 0s 2ms/step - loss: 0.1262 - accuracy: 0.9594 - val_loss: 0.1295 - val_accuracy: 0.9575\n",
      "Epoch 55/500\n",
      "50/50 [==============================] - 0s 2ms/step - loss: 0.1202 - accuracy: 0.9626 - val_loss: 0.1399 - val_accuracy: 0.9475\n",
      "Epoch 56/500\n",
      "50/50 [==============================] - 0s 2ms/step - loss: 0.1190 - accuracy: 0.9581 - val_loss: 0.1426 - val_accuracy: 0.9350\n",
      "Epoch 57/500\n",
      "50/50 [==============================] - 0s 2ms/step - loss: 0.1167 - accuracy: 0.9603 - val_loss: 0.1294 - val_accuracy: 0.9525\n",
      "Epoch 58/500\n",
      "50/50 [==============================] - 0s 3ms/step - loss: 0.1089 - accuracy: 0.9666 - val_loss: 0.1482 - val_accuracy: 0.9300\n"
     ]
    },
    {
     "name": "stdout",
     "output_type": "stream",
     "text": [
      "Epoch 59/500\n",
      "50/50 [==============================] - 0s 2ms/step - loss: 0.1186 - accuracy: 0.9582 - val_loss: 0.1242 - val_accuracy: 0.9500\n",
      "Epoch 60/500\n",
      "50/50 [==============================] - 0s 2ms/step - loss: 0.1217 - accuracy: 0.9578 - val_loss: 0.1225 - val_accuracy: 0.9475\n",
      "Epoch 61/500\n",
      "50/50 [==============================] - 0s 2ms/step - loss: 0.1169 - accuracy: 0.9561 - val_loss: 0.1511 - val_accuracy: 0.9325\n",
      "Epoch 62/500\n",
      "50/50 [==============================] - 0s 2ms/step - loss: 0.1145 - accuracy: 0.9573 - val_loss: 0.1484 - val_accuracy: 0.9400\n",
      "Epoch 63/500\n",
      "50/50 [==============================] - 0s 3ms/step - loss: 0.1135 - accuracy: 0.9588 - val_loss: 0.1354 - val_accuracy: 0.9450\n",
      "Epoch 64/500\n",
      "50/50 [==============================] - 0s 2ms/step - loss: 0.1109 - accuracy: 0.9587 - val_loss: 0.1296 - val_accuracy: 0.9500\n",
      "Epoch 65/500\n",
      "50/50 [==============================] - 0s 2ms/step - loss: 0.1072 - accuracy: 0.9664 - val_loss: 0.1202 - val_accuracy: 0.9575\n",
      "Epoch 66/500\n",
      "50/50 [==============================] - 0s 2ms/step - loss: 0.0997 - accuracy: 0.9686 - val_loss: 0.1204 - val_accuracy: 0.9600\n",
      "Epoch 67/500\n",
      "50/50 [==============================] - 0s 2ms/step - loss: 0.0975 - accuracy: 0.9662 - val_loss: 0.1206 - val_accuracy: 0.9500\n",
      "Epoch 68/500\n",
      "50/50 [==============================] - 0s 3ms/step - loss: 0.0976 - accuracy: 0.9726 - val_loss: 0.1165 - val_accuracy: 0.9525\n",
      "Epoch 69/500\n",
      "50/50 [==============================] - 0s 2ms/step - loss: 0.0968 - accuracy: 0.9674 - val_loss: 0.1298 - val_accuracy: 0.9450\n",
      "Epoch 70/500\n",
      "50/50 [==============================] - 0s 2ms/step - loss: 0.1000 - accuracy: 0.9593 - val_loss: 0.1178 - val_accuracy: 0.9500\n",
      "Epoch 71/500\n",
      "50/50 [==============================] - 0s 2ms/step - loss: 0.1035 - accuracy: 0.9579 - val_loss: 0.1209 - val_accuracy: 0.9500\n",
      "Epoch 72/500\n",
      "50/50 [==============================] - 0s 2ms/step - loss: 0.0988 - accuracy: 0.9709 - val_loss: 0.1218 - val_accuracy: 0.9450\n",
      "Epoch 73/500\n",
      "50/50 [==============================] - 0s 2ms/step - loss: 0.0965 - accuracy: 0.9715 - val_loss: 0.1254 - val_accuracy: 0.9425\n",
      "Epoch 74/500\n",
      "50/50 [==============================] - 0s 2ms/step - loss: 0.0885 - accuracy: 0.9659 - val_loss: 0.1187 - val_accuracy: 0.9500\n",
      "Epoch 75/500\n",
      "50/50 [==============================] - 0s 2ms/step - loss: 0.0930 - accuracy: 0.9705 - val_loss: 0.1146 - val_accuracy: 0.9575\n",
      "Epoch 76/500\n",
      "50/50 [==============================] - 0s 2ms/step - loss: 0.0949 - accuracy: 0.9689 - val_loss: 0.1305 - val_accuracy: 0.9500\n",
      "Epoch 77/500\n",
      "50/50 [==============================] - 0s 2ms/step - loss: 0.0890 - accuracy: 0.9746 - val_loss: 0.1125 - val_accuracy: 0.9600\n",
      "Epoch 78/500\n",
      "50/50 [==============================] - 0s 2ms/step - loss: 0.0929 - accuracy: 0.9674 - val_loss: 0.1311 - val_accuracy: 0.9500\n",
      "Epoch 79/500\n",
      "50/50 [==============================] - 0s 3ms/step - loss: 0.0936 - accuracy: 0.9693 - val_loss: 0.1130 - val_accuracy: 0.9525\n",
      "Epoch 80/500\n",
      "50/50 [==============================] - 0s 2ms/step - loss: 0.0926 - accuracy: 0.9649 - val_loss: 0.1090 - val_accuracy: 0.9550\n",
      "Epoch 81/500\n",
      "50/50 [==============================] - 0s 2ms/step - loss: 0.0809 - accuracy: 0.9718 - val_loss: 0.1099 - val_accuracy: 0.9525\n",
      "Epoch 82/500\n",
      "50/50 [==============================] - 0s 2ms/step - loss: 0.0798 - accuracy: 0.9806 - val_loss: 0.1196 - val_accuracy: 0.9575\n",
      "Epoch 83/500\n",
      "50/50 [==============================] - 0s 2ms/step - loss: 0.0808 - accuracy: 0.9746 - val_loss: 0.1085 - val_accuracy: 0.9600\n",
      "Epoch 84/500\n",
      "50/50 [==============================] - 0s 2ms/step - loss: 0.0903 - accuracy: 0.9667 - val_loss: 0.1251 - val_accuracy: 0.9550\n",
      "Epoch 85/500\n",
      "50/50 [==============================] - 0s 2ms/step - loss: 0.0836 - accuracy: 0.9684 - val_loss: 0.1082 - val_accuracy: 0.9600\n",
      "Epoch 86/500\n",
      "50/50 [==============================] - 0s 2ms/step - loss: 0.0859 - accuracy: 0.9654 - val_loss: 0.1122 - val_accuracy: 0.9575\n",
      "Epoch 87/500\n",
      "50/50 [==============================] - 0s 2ms/step - loss: 0.0812 - accuracy: 0.9787 - val_loss: 0.1345 - val_accuracy: 0.9425\n",
      "Epoch 88/500\n",
      "50/50 [==============================] - 0s 2ms/step - loss: 0.0760 - accuracy: 0.9763 - val_loss: 0.1078 - val_accuracy: 0.9575\n",
      "Epoch 89/500\n",
      "50/50 [==============================] - 0s 2ms/step - loss: 0.0808 - accuracy: 0.9805 - val_loss: 0.1069 - val_accuracy: 0.9525\n",
      "Epoch 90/500\n",
      "50/50 [==============================] - 0s 2ms/step - loss: 0.0811 - accuracy: 0.9694 - val_loss: 0.1054 - val_accuracy: 0.9600\n",
      "Epoch 91/500\n",
      "50/50 [==============================] - 0s 2ms/step - loss: 0.0883 - accuracy: 0.9711 - val_loss: 0.1090 - val_accuracy: 0.9600\n",
      "Epoch 92/500\n",
      "50/50 [==============================] - 0s 2ms/step - loss: 0.0713 - accuracy: 0.9770 - val_loss: 0.1089 - val_accuracy: 0.9550\n",
      "Epoch 93/500\n",
      "50/50 [==============================] - 0s 2ms/step - loss: 0.0733 - accuracy: 0.9753 - val_loss: 0.1193 - val_accuracy: 0.9550\n",
      "Epoch 94/500\n",
      "50/50 [==============================] - 0s 2ms/step - loss: 0.0763 - accuracy: 0.9769 - val_loss: 0.1124 - val_accuracy: 0.9500\n",
      "Epoch 95/500\n",
      "50/50 [==============================] - 0s 2ms/step - loss: 0.0736 - accuracy: 0.9784 - val_loss: 0.1422 - val_accuracy: 0.9325\n",
      "Epoch 96/500\n",
      "50/50 [==============================] - 0s 2ms/step - loss: 0.0722 - accuracy: 0.9776 - val_loss: 0.1478 - val_accuracy: 0.9450\n",
      "Epoch 97/500\n",
      "50/50 [==============================] - 0s 2ms/step - loss: 0.0883 - accuracy: 0.9632 - val_loss: 0.1493 - val_accuracy: 0.9400\n",
      "Epoch 98/500\n",
      "50/50 [==============================] - 0s 2ms/step - loss: 0.0735 - accuracy: 0.9765 - val_loss: 0.1054 - val_accuracy: 0.9625\n",
      "Epoch 99/500\n",
      "50/50 [==============================] - 0s 2ms/step - loss: 0.0840 - accuracy: 0.9675 - val_loss: 0.1105 - val_accuracy: 0.9500\n",
      "Epoch 100/500\n",
      "50/50 [==============================] - 0s 2ms/step - loss: 0.0733 - accuracy: 0.9770 - val_loss: 0.1076 - val_accuracy: 0.9575\n",
      "Epoch 101/500\n",
      "50/50 [==============================] - 0s 2ms/step - loss: 0.0634 - accuracy: 0.9886 - val_loss: 0.1033 - val_accuracy: 0.9575\n",
      "Epoch 102/500\n",
      "50/50 [==============================] - 0s 2ms/step - loss: 0.0827 - accuracy: 0.9697 - val_loss: 0.1115 - val_accuracy: 0.9525\n",
      "Epoch 103/500\n",
      "50/50 [==============================] - 0s 2ms/step - loss: 0.0621 - accuracy: 0.9783 - val_loss: 0.1051 - val_accuracy: 0.9625\n",
      "Epoch 104/500\n",
      "50/50 [==============================] - 0s 2ms/step - loss: 0.0732 - accuracy: 0.9804 - val_loss: 0.1271 - val_accuracy: 0.9375\n",
      "Epoch 105/500\n",
      "50/50 [==============================] - 0s 2ms/step - loss: 0.0794 - accuracy: 0.9705 - val_loss: 0.1190 - val_accuracy: 0.9550\n",
      "Epoch 106/500\n",
      "50/50 [==============================] - 0s 2ms/step - loss: 0.0638 - accuracy: 0.9765 - val_loss: 0.1111 - val_accuracy: 0.9625\n",
      "Epoch 107/500\n",
      "50/50 [==============================] - 0s 2ms/step - loss: 0.0671 - accuracy: 0.9804 - val_loss: 0.1024 - val_accuracy: 0.9625\n",
      "Epoch 108/500\n",
      "50/50 [==============================] - 0s 2ms/step - loss: 0.0580 - accuracy: 0.9896 - val_loss: 0.1017 - val_accuracy: 0.9625\n",
      "Epoch 109/500\n",
      "50/50 [==============================] - 0s 2ms/step - loss: 0.0651 - accuracy: 0.9830 - val_loss: 0.1022 - val_accuracy: 0.9625\n",
      "Epoch 110/500\n",
      "50/50 [==============================] - 0s 2ms/step - loss: 0.0666 - accuracy: 0.9823 - val_loss: 0.1250 - val_accuracy: 0.9475\n",
      "Epoch 111/500\n",
      "50/50 [==============================] - 0s 2ms/step - loss: 0.0638 - accuracy: 0.9828 - val_loss: 0.1037 - val_accuracy: 0.9625\n",
      "Epoch 112/500\n",
      "50/50 [==============================] - 0s 2ms/step - loss: 0.0565 - accuracy: 0.9890 - val_loss: 0.1222 - val_accuracy: 0.9575\n",
      "Epoch 113/500\n",
      "50/50 [==============================] - 0s 2ms/step - loss: 0.0603 - accuracy: 0.9864 - val_loss: 0.1119 - val_accuracy: 0.9625\n",
      "Epoch 114/500\n",
      "50/50 [==============================] - 0s 2ms/step - loss: 0.0560 - accuracy: 0.9869 - val_loss: 0.1659 - val_accuracy: 0.9200\n",
      "Epoch 115/500\n",
      "50/50 [==============================] - 0s 2ms/step - loss: 0.0693 - accuracy: 0.9821 - val_loss: 0.1035 - val_accuracy: 0.9625\n",
      "Epoch 116/500\n",
      "50/50 [==============================] - 0s 2ms/step - loss: 0.0617 - accuracy: 0.9819 - val_loss: 0.1065 - val_accuracy: 0.9625\n",
      "Epoch 117/500\n",
      "50/50 [==============================] - 0s 2ms/step - loss: 0.0627 - accuracy: 0.9842 - val_loss: 0.1075 - val_accuracy: 0.9600\n",
      "Epoch 118/500\n",
      "50/50 [==============================] - 0s 2ms/step - loss: 0.0570 - accuracy: 0.9864 - val_loss: 0.1131 - val_accuracy: 0.9600\n",
      "Epoch 119/500\n",
      "50/50 [==============================] - 0s 2ms/step - loss: 0.0668 - accuracy: 0.9789 - val_loss: 0.1287 - val_accuracy: 0.9425\n",
      "Epoch 120/500\n",
      "50/50 [==============================] - 0s 2ms/step - loss: 0.0607 - accuracy: 0.9790 - val_loss: 0.1230 - val_accuracy: 0.9500\n",
      "Epoch 121/500\n",
      "50/50 [==============================] - 0s 2ms/step - loss: 0.0573 - accuracy: 0.9868 - val_loss: 0.1081 - val_accuracy: 0.9550\n",
      "Epoch 122/500\n",
      "50/50 [==============================] - 0s 2ms/step - loss: 0.0591 - accuracy: 0.9816 - val_loss: 0.1064 - val_accuracy: 0.9625\n",
      "Epoch 123/500\n",
      "50/50 [==============================] - 0s 2ms/step - loss: 0.0517 - accuracy: 0.9909 - val_loss: 0.1059 - val_accuracy: 0.9625\n",
      "Epoch 124/500\n",
      "50/50 [==============================] - 0s 2ms/step - loss: 0.0511 - accuracy: 0.9887 - val_loss: 0.1142 - val_accuracy: 0.9575\n",
      "Epoch 125/500\n",
      "50/50 [==============================] - 0s 2ms/step - loss: 0.0608 - accuracy: 0.9831 - val_loss: 0.1115 - val_accuracy: 0.9625\n",
      "Epoch 126/500\n",
      "50/50 [==============================] - 0s 2ms/step - loss: 0.0600 - accuracy: 0.9782 - val_loss: 0.1390 - val_accuracy: 0.9475\n",
      "Epoch 127/500\n",
      "50/50 [==============================] - 0s 2ms/step - loss: 0.0620 - accuracy: 0.9786 - val_loss: 0.1323 - val_accuracy: 0.9475\n",
      "Epoch 128/500\n",
      "50/50 [==============================] - 0s 2ms/step - loss: 0.0615 - accuracy: 0.9800 - val_loss: 0.0999 - val_accuracy: 0.9675\n",
      "Epoch 129/500\n",
      "50/50 [==============================] - 0s 2ms/step - loss: 0.0491 - accuracy: 0.9879 - val_loss: 0.0974 - val_accuracy: 0.9625\n",
      "Epoch 130/500\n",
      "50/50 [==============================] - 0s 2ms/step - loss: 0.0483 - accuracy: 0.9892 - val_loss: 0.1133 - val_accuracy: 0.9525\n",
      "Epoch 131/500\n",
      "50/50 [==============================] - 0s 2ms/step - loss: 0.0605 - accuracy: 0.9828 - val_loss: 0.1017 - val_accuracy: 0.9600\n",
      "Epoch 132/500\n",
      "50/50 [==============================] - 0s 2ms/step - loss: 0.0625 - accuracy: 0.9791 - val_loss: 0.1059 - val_accuracy: 0.9600\n",
      "Epoch 133/500\n",
      "50/50 [==============================] - 0s 2ms/step - loss: 0.0470 - accuracy: 0.9890 - val_loss: 0.1104 - val_accuracy: 0.9600\n",
      "Epoch 134/500\n",
      "50/50 [==============================] - 0s 2ms/step - loss: 0.0536 - accuracy: 0.9834 - val_loss: 0.1030 - val_accuracy: 0.9600\n",
      "Epoch 135/500\n",
      "50/50 [==============================] - 0s 2ms/step - loss: 0.0516 - accuracy: 0.9900 - val_loss: 0.1065 - val_accuracy: 0.9525\n",
      "Epoch 136/500\n",
      "50/50 [==============================] - 0s 2ms/step - loss: 0.0503 - accuracy: 0.9859 - val_loss: 0.1072 - val_accuracy: 0.9600\n",
      "Epoch 137/500\n",
      "50/50 [==============================] - 0s 2ms/step - loss: 0.0518 - accuracy: 0.9838 - val_loss: 0.1060 - val_accuracy: 0.9575\n",
      "Epoch 138/500\n",
      "50/50 [==============================] - 0s 2ms/step - loss: 0.0543 - accuracy: 0.9852 - val_loss: 0.1087 - val_accuracy: 0.9600\n",
      "Epoch 139/500\n",
      "50/50 [==============================] - 0s 2ms/step - loss: 0.0482 - accuracy: 0.9916 - val_loss: 0.1121 - val_accuracy: 0.9625\n",
      "Epoch 140/500\n",
      "50/50 [==============================] - 0s 2ms/step - loss: 0.0502 - accuracy: 0.9889 - val_loss: 0.1879 - val_accuracy: 0.9150\n",
      "Epoch 141/500\n",
      "50/50 [==============================] - 0s 2ms/step - loss: 0.0655 - accuracy: 0.9788 - val_loss: 0.1078 - val_accuracy: 0.9625\n",
      "Epoch 142/500\n",
      "50/50 [==============================] - 0s 2ms/step - loss: 0.0482 - accuracy: 0.9853 - val_loss: 0.1055 - val_accuracy: 0.9650\n",
      "Epoch 143/500\n",
      "50/50 [==============================] - 0s 2ms/step - loss: 0.0429 - accuracy: 0.9925 - val_loss: 0.1049 - val_accuracy: 0.9600\n",
      "Epoch 144/500\n",
      "50/50 [==============================] - 0s 2ms/step - loss: 0.0447 - accuracy: 0.9898 - val_loss: 0.1088 - val_accuracy: 0.9625\n",
      "Epoch 145/500\n",
      "50/50 [==============================] - 0s 2ms/step - loss: 0.0492 - accuracy: 0.9871 - val_loss: 0.1264 - val_accuracy: 0.9550\n",
      "Epoch 146/500\n",
      "50/50 [==============================] - 0s 2ms/step - loss: 0.0611 - accuracy: 0.9805 - val_loss: 0.1255 - val_accuracy: 0.9500\n",
      "Epoch 147/500\n",
      "50/50 [==============================] - 0s 2ms/step - loss: 0.0638 - accuracy: 0.9695 - val_loss: 0.1057 - val_accuracy: 0.9675\n",
      "Epoch 148/500\n",
      "50/50 [==============================] - 0s 2ms/step - loss: 0.0518 - accuracy: 0.9821 - val_loss: 0.1065 - val_accuracy: 0.9625\n",
      "Epoch 149/500\n",
      "50/50 [==============================] - 0s 2ms/step - loss: 0.0453 - accuracy: 0.9853 - val_loss: 0.1044 - val_accuracy: 0.9625\n",
      "Epoch 150/500\n",
      "50/50 [==============================] - 0s 2ms/step - loss: 0.0537 - accuracy: 0.9839 - val_loss: 0.1037 - val_accuracy: 0.9650\n",
      "Epoch 151/500\n",
      "50/50 [==============================] - 0s 2ms/step - loss: 0.0476 - accuracy: 0.9799 - val_loss: 0.1117 - val_accuracy: 0.9600\n",
      "Epoch 152/500\n",
      "50/50 [==============================] - 0s 2ms/step - loss: 0.0504 - accuracy: 0.9837 - val_loss: 0.1052 - val_accuracy: 0.9675\n",
      "Epoch 153/500\n",
      "50/50 [==============================] - 0s 2ms/step - loss: 0.0538 - accuracy: 0.9825 - val_loss: 0.1050 - val_accuracy: 0.9600\n",
      "Epoch 154/500\n",
      "50/50 [==============================] - 0s 2ms/step - loss: 0.0447 - accuracy: 0.9896 - val_loss: 0.1027 - val_accuracy: 0.9675\n",
      "Epoch 00154: early stopping\n"
     ]
    },
    {
     "data": {
      "text/plain": [
       "<tensorflow.python.keras.callbacks.History at 0x17088347ca0>"
      ]
     },
     "execution_count": 98,
     "metadata": {},
     "output_type": "execute_result"
    }
   ],
   "source": [
    "model.fit(x=scaled_X_train, y=y_train, \n",
    "          validation_data=(scaled_X_test,y_test),\n",
    "          epochs=500,\n",
    "          callbacks=[early_stop])"
   ]
  },
  {
   "cell_type": "markdown",
   "metadata": {},
   "source": [
    "## Model Evaluation"
   ]
  },
  {
   "cell_type": "code",
   "execution_count": 99,
   "metadata": {},
   "outputs": [],
   "source": [
    "eval_df = pd.DataFrame(model.history.history)"
   ]
  },
  {
   "cell_type": "code",
   "execution_count": 100,
   "metadata": {},
   "outputs": [
    {
     "data": {
      "text/plain": [
       "<matplotlib.axes._subplots.AxesSubplot at 0x1708bf58c70>"
      ]
     },
     "execution_count": 100,
     "metadata": {},
     "output_type": "execute_result"
    },
    {
     "data": {
      "image/png": "[encoded data removed]",
      "text/plain": [
       "<Figure size 432x288 with 1 Axes>"
      ]
     },
     "metadata": {},
     "output_type": "display_data"
    }
   ],
   "source": [
    "eval_df[['loss','val_loss']].plot()"
   ]
  },
  {
   "cell_type": "code",
   "execution_count": 101,
   "metadata": {},
   "outputs": [
    {
     "data": {
      "text/plain": [
       "<matplotlib.axes._subplots.AxesSubplot at 0x1708c387910>"
      ]
     },
     "execution_count": 101,
     "metadata": {},
     "output_type": "execute_result"
    },
    {
     "data": {
      "image/png": "[encoded data removed]",
      "text/plain": [
       "<Figure size 432x288 with 1 Axes>"
      ]
     },
     "metadata": {},
     "output_type": "display_data"
    }
   ],
   "source": [
    "eval_df[['accuracy','val_accuracy']].plot()"
   ]
  },
  {
   "cell_type": "code",
   "execution_count": 102,
   "metadata": {},
   "outputs": [
    {
     "name": "stdout",
     "output_type": "stream",
     "text": [
      "13/13 [==============================] - 0s 1ms/step - loss: 0.1027 - accuracy: 0.9675\n"
     ]
    }
   ],
   "source": [
    "loss,acc= model.evaluate(scaled_X_test,y_test)"
   ]
  },
  {
   "cell_type": "code",
   "execution_count": 107,
   "metadata": {},
   "outputs": [
    {
     "name": "stdout",
     "output_type": "stream",
     "text": [
      "Accuracy on Test Dataset: 97 %\n"
     ]
    }
   ],
   "source": [
    "print('Accuracy on Test Dataset:',round(acc*100),\"%\")"
   ]
  },
  {
   "cell_type": "markdown",
   "metadata": {},
   "source": [
    "## New Prediction"
   ]
  },
  {
   "cell_type": "code",
   "execution_count": 110,
   "metadata": {},
   "outputs": [
    {
     "data": {
      "text/html": [
       "<div>\n",
       "<style scoped>\n",
       "    .dataframe tbody tr th:only-of-type {\n",
       "        vertical-align: middle;\n",
       "    }\n",
       "\n",
       "    .dataframe tbody tr th {\n",
       "        vertical-align: top;\n",
       "    }\n",
       "\n",
       "    .dataframe thead th {\n",
       "        text-align: right;\n",
       "    }\n",
       "</style>\n",
       "<table border=\"1\" class=\"dataframe\">\n",
       "  <thead>\n",
       "    <tr style=\"text-align: right;\">\n",
       "      <th></th>\n",
       "      <th>id</th>\n",
       "      <th>battery_power</th>\n",
       "      <th>blue</th>\n",
       "      <th>clock_speed</th>\n",
       "      <th>dual_sim</th>\n",
       "      <th>fc</th>\n",
       "      <th>four_g</th>\n",
       "      <th>int_memory</th>\n",
       "      <th>m_dep</th>\n",
       "      <th>mobile_wt</th>\n",
       "      <th>...</th>\n",
       "      <th>pc</th>\n",
       "      <th>px_height</th>\n",
       "      <th>px_width</th>\n",
       "      <th>ram</th>\n",
       "      <th>sc_h</th>\n",
       "      <th>sc_w</th>\n",
       "      <th>talk_time</th>\n",
       "      <th>three_g</th>\n",
       "      <th>touch_screen</th>\n",
       "      <th>wifi</th>\n",
       "    </tr>\n",
       "  </thead>\n",
       "  <tbody>\n",
       "    <tr>\n",
       "      <th>0</th>\n",
       "      <td>1</td>\n",
       "      <td>1043</td>\n",
       "      <td>1</td>\n",
       "      <td>1.8</td>\n",
       "      <td>1</td>\n",
       "      <td>14</td>\n",
       "      <td>0</td>\n",
       "      <td>5</td>\n",
       "      <td>0.1</td>\n",
       "      <td>193</td>\n",
       "      <td>...</td>\n",
       "      <td>16</td>\n",
       "      <td>226</td>\n",
       "      <td>1412</td>\n",
       "      <td>3476</td>\n",
       "      <td>12</td>\n",
       "      <td>7</td>\n",
       "      <td>2</td>\n",
       "      <td>0</td>\n",
       "      <td>1</td>\n",
       "      <td>0</td>\n",
       "    </tr>\n",
       "    <tr>\n",
       "      <th>1</th>\n",
       "      <td>2</td>\n",
       "      <td>841</td>\n",
       "      <td>1</td>\n",
       "      <td>0.5</td>\n",
       "      <td>1</td>\n",
       "      <td>4</td>\n",
       "      <td>1</td>\n",
       "      <td>61</td>\n",
       "      <td>0.8</td>\n",
       "      <td>191</td>\n",
       "      <td>...</td>\n",
       "      <td>12</td>\n",
       "      <td>746</td>\n",
       "      <td>857</td>\n",
       "      <td>3895</td>\n",
       "      <td>6</td>\n",
       "      <td>0</td>\n",
       "      <td>7</td>\n",
       "      <td>1</td>\n",
       "      <td>0</td>\n",
       "      <td>0</td>\n",
       "    </tr>\n",
       "    <tr>\n",
       "      <th>2</th>\n",
       "      <td>3</td>\n",
       "      <td>1807</td>\n",
       "      <td>1</td>\n",
       "      <td>2.8</td>\n",
       "      <td>0</td>\n",
       "      <td>1</td>\n",
       "      <td>0</td>\n",
       "      <td>27</td>\n",
       "      <td>0.9</td>\n",
       "      <td>186</td>\n",
       "      <td>...</td>\n",
       "      <td>4</td>\n",
       "      <td>1270</td>\n",
       "      <td>1366</td>\n",
       "      <td>2396</td>\n",
       "      <td>17</td>\n",
       "      <td>10</td>\n",
       "      <td>10</td>\n",
       "      <td>0</td>\n",
       "      <td>1</td>\n",
       "      <td>1</td>\n",
       "    </tr>\n",
       "    <tr>\n",
       "      <th>3</th>\n",
       "      <td>4</td>\n",
       "      <td>1546</td>\n",
       "      <td>0</td>\n",
       "      <td>0.5</td>\n",
       "      <td>1</td>\n",
       "      <td>18</td>\n",
       "      <td>1</td>\n",
       "      <td>25</td>\n",
       "      <td>0.5</td>\n",
       "      <td>96</td>\n",
       "      <td>...</td>\n",
       "      <td>20</td>\n",
       "      <td>295</td>\n",
       "      <td>1752</td>\n",
       "      <td>3893</td>\n",
       "      <td>10</td>\n",
       "      <td>0</td>\n",
       "      <td>7</td>\n",
       "      <td>1</td>\n",
       "      <td>1</td>\n",
       "      <td>0</td>\n",
       "    </tr>\n",
       "    <tr>\n",
       "      <th>4</th>\n",
       "      <td>5</td>\n",
       "      <td>1434</td>\n",
       "      <td>0</td>\n",
       "      <td>1.4</td>\n",
       "      <td>0</td>\n",
       "      <td>11</td>\n",
       "      <td>1</td>\n",
       "      <td>49</td>\n",
       "      <td>0.5</td>\n",
       "      <td>108</td>\n",
       "      <td>...</td>\n",
       "      <td>18</td>\n",
       "      <td>749</td>\n",
       "      <td>810</td>\n",
       "      <td>1773</td>\n",
       "      <td>15</td>\n",
       "      <td>8</td>\n",
       "      <td>7</td>\n",
       "      <td>1</td>\n",
       "      <td>0</td>\n",
       "      <td>1</td>\n",
       "    </tr>\n",
       "  </tbody>\n",
       "</table>\n",
       "<p>5 rows × 21 columns</p>\n",
       "</div>"
      ],
      "text/plain": [
       "   id  battery_power  blue  clock_speed  dual_sim  fc  four_g  int_memory  \\\n",
       "0   1           1043     1          1.8         1  14       0           5   \n",
       "1   2            841     1          0.5         1   4       1          61   \n",
       "2   3           1807     1          2.8         0   1       0          27   \n",
       "3   4           1546     0          0.5         1  18       1          25   \n",
       "4   5           1434     0          1.4         0  11       1          49   \n",
       "\n",
       "   m_dep  mobile_wt  ...  pc  px_height  px_width   ram  sc_h  sc_w  \\\n",
       "0    0.1        193  ...  16        226      1412  3476    12     7   \n",
       "1    0.8        191  ...  12        746       857  3895     6     0   \n",
       "2    0.9        186  ...   4       1270      1366  2396    17    10   \n",
       "3    0.5         96  ...  20        295      1752  3893    10     0   \n",
       "4    0.5        108  ...  18        749       810  1773    15     8   \n",
       "\n",
       "   talk_time  three_g  touch_screen  wifi  \n",
       "0          2        0             1     0  \n",
       "1          7        1             0     0  \n",
       "2         10        0             1     1  \n",
       "3          7        1             1     0  \n",
       "4          7        1             0     1  \n",
       "\n",
       "[5 rows x 21 columns]"
      ]
     },
     "execution_count": 110,
     "metadata": {},
     "output_type": "execute_result"
    }
   ],
   "source": [
    "test_df.head()"
   ]
  },
  {
   "cell_type": "code",
   "execution_count": 113,
   "metadata": {},
   "outputs": [],
   "source": [
    "test_df.drop('id',inplace=True,axis=1)"
   ]
  },
  {
   "cell_type": "code",
   "execution_count": 117,
   "metadata": {},
   "outputs": [],
   "source": [
    "scaled_test_df = scaler.transform(test_df.values) "
   ]
  },
  {
   "cell_type": "code",
   "execution_count": 120,
   "metadata": {},
   "outputs": [],
   "source": [
    "prediction = np.argmax(model.predict(scaled_test_df), axis=-1)"
   ]
  },
  {
   "cell_type": "markdown",
   "metadata": {},
   "source": [
    "## Single Prediction"
   ]
  },
  {
   "cell_type": "code",
   "execution_count": 128,
   "metadata": {},
   "outputs": [],
   "source": [
    "battery_power = 043.0\n",
    "blue = 1.0\n",
    "clock_speed = 1.8\n",
    "dual_sim = 1.0\n",
    "fc = 14.0\n",
    "four_g = 0.0\n",
    "int_memory = 5.0\n",
    "m_dep = 0.1\n",
    "mobile_wt = 193.0\n",
    "n_cores = 3.0\n",
    "pc = 16.0\n",
    "px_height = 226.0\n",
    "px_width = 1412.0\n",
    "ram = 3476.0\n",
    "sc_h = 12.0\n",
    "sc_w = 7.0\n",
    "talk_time = 2.0\n",
    "three_g = 0.0\n",
    "touch_screen = 1.0\n",
    "wifi =   0.0"
   ]
  },
  {
   "cell_type": "code",
   "execution_count": 129,
   "metadata": {},
   "outputs": [],
   "source": [
    "data = [[\n",
    "    battery_power ,\n",
    "    blue,\n",
    "    clock_speed ,\n",
    "    dual_sim ,\n",
    "    fc ,\n",
    "    four_g ,\n",
    "    int_memory ,\n",
    "    m_dep ,\n",
    "    mobile_wt ,\n",
    "    n_cores ,\n",
    "    pc,\n",
    "    px_height ,\n",
    "    px_width ,\n",
    "    ram,\n",
    "    sc_h ,\n",
    "    sc_w ,\n",
    "    talk_time ,\n",
    "    three_g,\n",
    "    touch_screen ,\n",
    "    wifi ,\n",
    "]]"
   ]
  },
  {
   "cell_type": "code",
   "execution_count": 130,
   "metadata": {},
   "outputs": [],
   "source": [
    "scaled_data = scaler.transform(data)"
   ]
  },
  {
   "cell_type": "code",
   "execution_count": 131,
   "metadata": {},
   "outputs": [
    {
     "name": "stdout",
     "output_type": "stream",
     "text": [
      "High Cost\n"
     ]
    }
   ],
   "source": [
    "prediction = np.argmax(model.predict(scaled_data), axis=-1)\n",
    "\n",
    "if prediction == 0:\n",
    "    print('Low Cost')\n",
    "elif prediction == 1:\n",
    "    print('Medium Cost')\n",
    "elif prediction == 2:\n",
    "    print('High Cost')\n",
    "elif prediction == 3:\n",
    "    print('Very High Cost')"
   ]
  },
  {
   "cell_type": "markdown",
   "metadata": {},
   "source": [
    "## Model Training (Complete Dataset)"
   ]
  },
  {
   "cell_type": "code",
   "execution_count": 133,
   "metadata": {},
   "outputs": [],
   "source": [
    "scaled_X = scaler.transform(X)"
   ]
  },
  {
   "cell_type": "code",
   "execution_count": 141,
   "metadata": {},
   "outputs": [],
   "source": [
    "model = Sequential()\n",
    "\n",
    "model.add(Dense(units=20,activation='relu'))\n",
    "model.add(Dense(units=10,activation='relu'))\n",
    "model.add(Dense(units=5,activation='relu'))\n",
    "\n",
    "# BINARY CLASSIFICATION\n",
    "model.add(Dense(units=4,activation='softmax'))\n",
    "\n",
    "model.compile(optimizer='adam',loss='sparse_categorical_crossentropy', metrics=['accuracy'])"
   ]
  },
  {
   "cell_type": "code",
   "execution_count": 142,
   "metadata": {},
   "outputs": [
    {
     "name": "stdout",
     "output_type": "stream",
     "text": [
      "Epoch 1/150\n",
      "63/63 [==============================] - 1s 974us/step - loss: 1.4598 - accuracy: 0.2384\n",
      "Epoch 2/150\n",
      "63/63 [==============================] - 0s 1ms/step - loss: 1.3686 - accuracy: 0.2661\n",
      "Epoch 3/150\n",
      "63/63 [==============================] - 0s 1ms/step - loss: 1.3348 - accuracy: 0.3640\n",
      "Epoch 4/150\n",
      "63/63 [==============================] - 0s 965us/step - loss: 1.2380 - accuracy: 0.4649\n",
      "Epoch 5/150\n",
      "63/63 [==============================] - 0s 981us/step - loss: 1.0860 - accuracy: 0.4853\n",
      "Epoch 6/150\n",
      "63/63 [==============================] - 0s 997us/step - loss: 0.9308 - accuracy: 0.5358\n",
      "Epoch 7/150\n",
      "63/63 [==============================] - 0s 1ms/step - loss: 0.7564 - accuracy: 0.7404\n",
      "Epoch 8/150\n",
      "63/63 [==============================] - 0s 997us/step - loss: 0.6059 - accuracy: 0.8030\n",
      "Epoch 9/150\n",
      "63/63 [==============================] - 0s 1ms/step - loss: 0.5020 - accuracy: 0.8465\n",
      "Epoch 10/150\n",
      "63/63 [==============================] - 0s 1ms/step - loss: 0.4279 - accuracy: 0.8663\n",
      "Epoch 11/150\n",
      "63/63 [==============================] - 0s 981us/step - loss: 0.3811 - accuracy: 0.8840\n",
      "Epoch 12/150\n",
      "63/63 [==============================] - 0s 965us/step - loss: 0.3275 - accuracy: 0.8937\n",
      "Epoch 13/150\n",
      "63/63 [==============================] - 0s 965us/step - loss: 0.3059 - accuracy: 0.8880\n",
      "Epoch 14/150\n",
      "63/63 [==============================] - 0s 981us/step - loss: 0.2691 - accuracy: 0.9214\n",
      "Epoch 15/150\n",
      "63/63 [==============================] - 0s 981us/step - loss: 0.2561 - accuracy: 0.9158\n",
      "Epoch 16/150\n",
      "63/63 [==============================] - 0s 933us/step - loss: 0.2416 - accuracy: 0.9302\n",
      "Epoch 17/150\n",
      "63/63 [==============================] - 0s 981us/step - loss: 0.2346 - accuracy: 0.9236\n",
      "Epoch 18/150\n",
      "63/63 [==============================] - 0s 997us/step - loss: 0.2183 - accuracy: 0.9314\n",
      "Epoch 19/150\n",
      "63/63 [==============================] - 0s 917us/step - loss: 0.2117 - accuracy: 0.9262\n",
      "Epoch 20/150\n",
      "63/63 [==============================] - 0s 949us/step - loss: 0.1899 - accuracy: 0.9396\n",
      "Epoch 21/150\n",
      "63/63 [==============================] - 0s 981us/step - loss: 0.1996 - accuracy: 0.9223\n",
      "Epoch 22/150\n",
      "63/63 [==============================] - 0s 965us/step - loss: 0.1880 - accuracy: 0.9368\n",
      "Epoch 23/150\n",
      "63/63 [==============================] - 0s 981us/step - loss: 0.1826 - accuracy: 0.9317\n",
      "Epoch 24/150\n",
      "63/63 [==============================] - 0s 965us/step - loss: 0.1653 - accuracy: 0.9486\n",
      "Epoch 25/150\n",
      "63/63 [==============================] - 0s 965us/step - loss: 0.1599 - accuracy: 0.9450\n",
      "Epoch 26/150\n",
      "63/63 [==============================] - 0s 933us/step - loss: 0.1602 - accuracy: 0.9460\n",
      "Epoch 27/150\n",
      "63/63 [==============================] - 0s 933us/step - loss: 0.1616 - accuracy: 0.9413\n",
      "Epoch 28/150\n",
      "63/63 [==============================] - 0s 965us/step - loss: 0.1505 - accuracy: 0.9511\n",
      "Epoch 29/150\n",
      "63/63 [==============================] - 0s 981us/step - loss: 0.1562 - accuracy: 0.9405\n",
      "Epoch 30/150\n",
      "63/63 [==============================] - 0s 965us/step - loss: 0.1528 - accuracy: 0.9452\n",
      "Epoch 31/150\n",
      "63/63 [==============================] - 0s 1ms/step - loss: 0.1339 - accuracy: 0.9524\n",
      "Epoch 32/150\n",
      "63/63 [==============================] - 0s 1ms/step - loss: 0.1384 - accuracy: 0.9420\n",
      "Epoch 33/150\n",
      "63/63 [==============================] - 0s 997us/step - loss: 0.1366 - accuracy: 0.9504\n",
      "Epoch 34/150\n",
      "63/63 [==============================] - 0s 1ms/step - loss: 0.1292 - accuracy: 0.9481\n",
      "Epoch 35/150\n",
      "63/63 [==============================] - 0s 963us/step - loss: 0.1359 - accuracy: 0.9551\n",
      "Epoch 36/150\n",
      "63/63 [==============================] - 0s 917us/step - loss: 0.1254 - accuracy: 0.9530\n",
      "Epoch 37/150\n",
      "63/63 [==============================] - 0s 965us/step - loss: 0.1348 - accuracy: 0.9565\n",
      "Epoch 38/150\n",
      "63/63 [==============================] - 0s 933us/step - loss: 0.1332 - accuracy: 0.9490\n",
      "Epoch 39/150\n",
      "63/63 [==============================] - 0s 995us/step - loss: 0.1329 - accuracy: 0.9502\n",
      "Epoch 40/150\n",
      "63/63 [==============================] - 0s 965us/step - loss: 0.1229 - accuracy: 0.9529\n",
      "Epoch 41/150\n",
      "63/63 [==============================] - 0s 965us/step - loss: 0.1244 - accuracy: 0.9527\n",
      "Epoch 42/150\n",
      "63/63 [==============================] - 0s 997us/step - loss: 0.1196 - accuracy: 0.9573\n",
      "Epoch 43/150\n",
      "63/63 [==============================] - 0s 997us/step - loss: 0.1196 - accuracy: 0.9515\n",
      "Epoch 44/150\n",
      "63/63 [==============================] - 0s 917us/step - loss: 0.1210 - accuracy: 0.9566\n",
      "Epoch 45/150\n",
      "63/63 [==============================] - 0s 885us/step - loss: 0.1049 - accuracy: 0.9682\n",
      "Epoch 46/150\n",
      "63/63 [==============================] - 0s 965us/step - loss: 0.1163 - accuracy: 0.9512\n",
      "Epoch 47/150\n",
      "63/63 [==============================] - 0s 997us/step - loss: 0.1177 - accuracy: 0.9561\n",
      "Epoch 48/150\n",
      "63/63 [==============================] - 0s 997us/step - loss: 0.1045 - accuracy: 0.9654\n",
      "Epoch 49/150\n",
      "63/63 [==============================] - 0s 997us/step - loss: 0.1153 - accuracy: 0.9567\n",
      "Epoch 50/150\n",
      "63/63 [==============================] - 0s 1ms/step - loss: 0.1073 - accuracy: 0.9591\n",
      "Epoch 51/150\n",
      "63/63 [==============================] - 0s 1ms/step - loss: 0.1042 - accuracy: 0.9647\n",
      "Epoch 52/150\n",
      "63/63 [==============================] - 0s 997us/step - loss: 0.1160 - accuracy: 0.9595\n",
      "Epoch 53/150\n",
      "63/63 [==============================] - 0s 997us/step - loss: 0.0911 - accuracy: 0.9674\n",
      "Epoch 54/150\n",
      "63/63 [==============================] - 0s 949us/step - loss: 0.0958 - accuracy: 0.9687\n",
      "Epoch 55/150\n",
      "63/63 [==============================] - 0s 901us/step - loss: 0.0917 - accuracy: 0.9640\n",
      "Epoch 56/150\n",
      "63/63 [==============================] - 0s 944us/step - loss: 0.1027 - accuracy: 0.9632\n",
      "Epoch 57/150\n",
      "63/63 [==============================] - 0s 949us/step - loss: 0.0862 - accuracy: 0.9687\n",
      "Epoch 58/150\n",
      "63/63 [==============================] - 0s 963us/step - loss: 0.0899 - accuracy: 0.9653\n",
      "Epoch 59/150\n",
      "63/63 [==============================] - 0s 885us/step - loss: 0.0933 - accuracy: 0.9702\n",
      "Epoch 60/150\n",
      "63/63 [==============================] - 0s 933us/step - loss: 0.0917 - accuracy: 0.9623\n",
      "Epoch 61/150\n",
      "63/63 [==============================] - 0s 958us/step - loss: 0.0807 - accuracy: 0.9749\n",
      "Epoch 62/150\n",
      "63/63 [==============================] - 0s 965us/step - loss: 0.0836 - accuracy: 0.9725\n",
      "Epoch 63/150\n",
      "63/63 [==============================] - 0s 894us/step - loss: 0.0807 - accuracy: 0.9731\n",
      "Epoch 64/150\n",
      "63/63 [==============================] - 0s 949us/step - loss: 0.0884 - accuracy: 0.9683\n",
      "Epoch 65/150\n",
      "63/63 [==============================] - 0s 949us/step - loss: 0.0806 - accuracy: 0.9756\n",
      "Epoch 66/150\n",
      "63/63 [==============================] - 0s 965us/step - loss: 0.0817 - accuracy: 0.9737\n",
      "Epoch 67/150\n",
      "63/63 [==============================] - 0s 949us/step - loss: 0.0820 - accuracy: 0.9733\n",
      "Epoch 68/150\n",
      "63/63 [==============================] - 0s 933us/step - loss: 0.0783 - accuracy: 0.9680\n",
      "Epoch 69/150\n",
      "63/63 [==============================] - 0s 981us/step - loss: 0.0860 - accuracy: 0.9717\n",
      "Epoch 70/150\n",
      "63/63 [==============================] - 0s 1ms/step - loss: 0.0778 - accuracy: 0.9761\n",
      "Epoch 71/150\n",
      "63/63 [==============================] - 0s 997us/step - loss: 0.0770 - accuracy: 0.9770\n",
      "Epoch 72/150\n",
      "63/63 [==============================] - 0s 997us/step - loss: 0.0811 - accuracy: 0.9727\n",
      "Epoch 73/150\n",
      "63/63 [==============================] - 0s 981us/step - loss: 0.0808 - accuracy: 0.9734\n",
      "Epoch 74/150\n",
      "63/63 [==============================] - 0s 1ms/step - loss: 0.0821 - accuracy: 0.9749\n",
      "Epoch 75/150\n",
      "63/63 [==============================] - 0s 1ms/step - loss: 0.0686 - accuracy: 0.9760\n",
      "Epoch 76/150\n",
      "63/63 [==============================] - 0s 1ms/step - loss: 0.0640 - accuracy: 0.9844\n",
      "Epoch 77/150\n",
      "63/63 [==============================] - 0s 1ms/step - loss: 0.0676 - accuracy: 0.9791\n",
      "Epoch 78/150\n",
      "63/63 [==============================] - 0s 1ms/step - loss: 0.0771 - accuracy: 0.9751\n",
      "Epoch 79/150\n",
      "63/63 [==============================] - 0s 1ms/step - loss: 0.0795 - accuracy: 0.9751\n",
      "Epoch 80/150\n",
      "63/63 [==============================] - 0s 1ms/step - loss: 0.0707 - accuracy: 0.9779\n",
      "Epoch 81/150\n",
      "63/63 [==============================] - 0s 1ms/step - loss: 0.0664 - accuracy: 0.9819\n",
      "Epoch 82/150\n",
      "63/63 [==============================] - 0s 1ms/step - loss: 0.0672 - accuracy: 0.9751\n",
      "Epoch 83/150\n",
      "63/63 [==============================] - 0s 1ms/step - loss: 0.0766 - accuracy: 0.9785\n",
      "Epoch 84/150\n",
      "63/63 [==============================] - 0s 1ms/step - loss: 0.0739 - accuracy: 0.9737\n",
      "Epoch 85/150\n",
      "63/63 [==============================] - 0s 933us/step - loss: 0.0693 - accuracy: 0.9748\n",
      "Epoch 86/150\n",
      "63/63 [==============================] - 0s 933us/step - loss: 0.0742 - accuracy: 0.9727\n",
      "Epoch 87/150\n",
      "63/63 [==============================] - 0s 934us/step - loss: 0.0620 - accuracy: 0.9822\n",
      "Epoch 88/150\n",
      "63/63 [==============================] - 0s 965us/step - loss: 0.0674 - accuracy: 0.9778\n",
      "Epoch 89/150\n",
      "63/63 [==============================] - 0s 949us/step - loss: 0.0757 - accuracy: 0.9665\n",
      "Epoch 90/150\n",
      "63/63 [==============================] - 0s 917us/step - loss: 0.0594 - accuracy: 0.9781\n",
      "Epoch 91/150\n",
      "63/63 [==============================] - 0s 901us/step - loss: 0.0552 - accuracy: 0.9834\n",
      "Epoch 92/150\n",
      "63/63 [==============================] - 0s 885us/step - loss: 0.0588 - accuracy: 0.9836\n",
      "Epoch 93/150\n",
      "63/63 [==============================] - 0s 949us/step - loss: 0.0663 - accuracy: 0.9746\n",
      "Epoch 94/150\n",
      "63/63 [==============================] - 0s 869us/step - loss: 0.0813 - accuracy: 0.9628\n",
      "Epoch 95/150\n",
      "63/63 [==============================] - 0s 933us/step - loss: 0.0665 - accuracy: 0.9759\n",
      "Epoch 96/150\n",
      "63/63 [==============================] - 0s 949us/step - loss: 0.0624 - accuracy: 0.9793\n",
      "Epoch 97/150\n",
      "63/63 [==============================] - 0s 901us/step - loss: 0.0520 - accuracy: 0.9916\n",
      "Epoch 98/150\n",
      "63/63 [==============================] - 0s 901us/step - loss: 0.0558 - accuracy: 0.9855\n",
      "Epoch 99/150\n",
      "63/63 [==============================] - 0s 917us/step - loss: 0.0623 - accuracy: 0.9758\n",
      "Epoch 100/150\n",
      "63/63 [==============================] - 0s 869us/step - loss: 0.0567 - accuracy: 0.9799\n",
      "Epoch 101/150\n",
      "63/63 [==============================] - 0s 917us/step - loss: 0.0542 - accuracy: 0.9819\n",
      "Epoch 102/150\n",
      "63/63 [==============================] - 0s 933us/step - loss: 0.0462 - accuracy: 0.9884\n",
      "Epoch 103/150\n",
      "63/63 [==============================] - 0s 869us/step - loss: 0.0509 - accuracy: 0.9850\n",
      "Epoch 104/150\n",
      "63/63 [==============================] - 0s 949us/step - loss: 0.0509 - accuracy: 0.9886\n",
      "Epoch 105/150\n",
      "63/63 [==============================] - 0s 949us/step - loss: 0.0487 - accuracy: 0.9841\n",
      "Epoch 106/150\n",
      "63/63 [==============================] - 0s 885us/step - loss: 0.0524 - accuracy: 0.9840\n",
      "Epoch 107/150\n",
      "63/63 [==============================] - 0s 917us/step - loss: 0.0529 - accuracy: 0.9843\n",
      "Epoch 108/150\n",
      "63/63 [==============================] - 0s 933us/step - loss: 0.0571 - accuracy: 0.9799\n",
      "Epoch 109/150\n",
      "63/63 [==============================] - 0s 901us/step - loss: 0.0518 - accuracy: 0.9851\n",
      "Epoch 110/150\n",
      "63/63 [==============================] - 0s 942us/step - loss: 0.0522 - accuracy: 0.9841\n",
      "Epoch 111/150\n",
      "63/63 [==============================] - 0s 912us/step - loss: 0.0525 - accuracy: 0.9825\n",
      "Epoch 112/150\n",
      "63/63 [==============================] - 0s 933us/step - loss: 0.0435 - accuracy: 0.9941\n",
      "Epoch 113/150\n",
      "63/63 [==============================] - 0s 965us/step - loss: 0.0498 - accuracy: 0.9823\n",
      "Epoch 114/150\n",
      "63/63 [==============================] - 0s 917us/step - loss: 0.0472 - accuracy: 0.9860\n",
      "Epoch 115/150\n",
      "63/63 [==============================] - 0s 933us/step - loss: 0.0490 - accuracy: 0.9875\n",
      "Epoch 116/150\n",
      "63/63 [==============================] - 0s 933us/step - loss: 0.0446 - accuracy: 0.9881\n",
      "Epoch 117/150\n",
      "63/63 [==============================] - 0s 885us/step - loss: 0.0691 - accuracy: 0.9713\n",
      "Epoch 118/150\n",
      "63/63 [==============================] - 0s 917us/step - loss: 0.0468 - accuracy: 0.9859\n",
      "Epoch 119/150\n",
      "63/63 [==============================] - 0s 933us/step - loss: 0.0470 - accuracy: 0.9849\n",
      "Epoch 120/150\n",
      "63/63 [==============================] - 0s 917us/step - loss: 0.0420 - accuracy: 0.9896\n",
      "Epoch 121/150\n",
      "63/63 [==============================] - 0s 869us/step - loss: 0.0487 - accuracy: 0.9867\n",
      "Epoch 122/150\n",
      "63/63 [==============================] - 0s 949us/step - loss: 0.0425 - accuracy: 0.9883\n",
      "Epoch 123/150\n",
      "63/63 [==============================] - 0s 885us/step - loss: 0.0389 - accuracy: 0.9916\n",
      "Epoch 124/150\n",
      "63/63 [==============================] - 0s 933us/step - loss: 0.0496 - accuracy: 0.9826\n",
      "Epoch 125/150\n",
      "63/63 [==============================] - 0s 949us/step - loss: 0.0405 - accuracy: 0.9875\n",
      "Epoch 126/150\n",
      "63/63 [==============================] - 0s 901us/step - loss: 0.0465 - accuracy: 0.9853\n",
      "Epoch 127/150\n",
      "63/63 [==============================] - 0s 1ms/step - loss: 0.0652 - accuracy: 0.9777\n",
      "Epoch 128/150\n",
      "63/63 [==============================] - 0s 917us/step - loss: 0.0449 - accuracy: 0.9845\n",
      "Epoch 129/150\n",
      "63/63 [==============================] - 0s 853us/step - loss: 0.0423 - accuracy: 0.9885\n",
      "Epoch 130/150\n",
      "63/63 [==============================] - 0s 997us/step - loss: 0.0477 - accuracy: 0.9868\n",
      "Epoch 131/150\n",
      "63/63 [==============================] - 0s 1ms/step - loss: 0.0479 - accuracy: 0.9858\n",
      "Epoch 132/150\n",
      "63/63 [==============================] - 0s 1ms/step - loss: 0.0406 - accuracy: 0.9909\n",
      "Epoch 133/150\n",
      "63/63 [==============================] - 0s 1ms/step - loss: 0.0485 - accuracy: 0.9848\n",
      "Epoch 134/150\n",
      "63/63 [==============================] - 0s 1ms/step - loss: 0.0451 - accuracy: 0.9860\n",
      "Epoch 135/150\n",
      "63/63 [==============================] - 0s 1ms/step - loss: 0.0376 - accuracy: 0.9894\n",
      "Epoch 136/150\n",
      "63/63 [==============================] - 0s 1ms/step - loss: 0.0539 - accuracy: 0.9884\n",
      "Epoch 137/150\n",
      "63/63 [==============================] - 0s 1ms/step - loss: 0.0510 - accuracy: 0.9796\n",
      "Epoch 138/150\n",
      "63/63 [==============================] - 0s 1ms/step - loss: 0.0462 - accuracy: 0.9838\n",
      "Epoch 139/150\n",
      "63/63 [==============================] - 0s 997us/step - loss: 0.0399 - accuracy: 0.9908\n",
      "Epoch 140/150\n",
      "63/63 [==============================] - 0s 1ms/step - loss: 0.0527 - accuracy: 0.9810\n",
      "Epoch 141/150\n",
      "63/63 [==============================] - 0s 997us/step - loss: 0.0383 - accuracy: 0.9880\n",
      "Epoch 142/150\n",
      "63/63 [==============================] - 0s 981us/step - loss: 0.0410 - accuracy: 0.9844\n",
      "Epoch 143/150\n",
      "63/63 [==============================] - 0s 1ms/step - loss: 0.0402 - accuracy: 0.9904\n",
      "Epoch 144/150\n",
      "63/63 [==============================] - 0s 1ms/step - loss: 0.0407 - accuracy: 0.9843\n",
      "Epoch 145/150\n",
      "63/63 [==============================] - 0s 1ms/step - loss: 0.0352 - accuracy: 0.9889\n",
      "Epoch 146/150\n",
      "63/63 [==============================] - 0s 1ms/step - loss: 0.0464 - accuracy: 0.9838\n",
      "Epoch 147/150\n",
      "63/63 [==============================] - 0s 1ms/step - loss: 0.0536 - accuracy: 0.9768\n",
      "Epoch 148/150\n",
      "63/63 [==============================] - 0s 1ms/step - loss: 0.0476 - accuracy: 0.9820\n",
      "Epoch 149/150\n",
      "63/63 [==============================] - 0s 997us/step - loss: 0.0437 - accuracy: 0.9854\n",
      "Epoch 150/150\n",
      "63/63 [==============================] - 0s 1ms/step - loss: 0.0387 - accuracy: 0.9896\n"
     ]
    },
    {
     "data": {
      "text/plain": [
       "<tensorflow.python.keras.callbacks.History at 0x17089f77550>"
      ]
     },
     "execution_count": 142,
     "metadata": {},
     "output_type": "execute_result"
    }
   ],
   "source": [
    "model.fit(scaled_X,y,epochs=150)"
   ]
  },
  {
   "cell_type": "code",
   "execution_count": 146,
   "metadata": {},
   "outputs": [],
   "source": [
    "model_accuracy = model.history.history['accuracy'][-1] * 100"
   ]
  },
  {
   "cell_type": "code",
   "execution_count": 149,
   "metadata": {},
   "outputs": [
    {
     "name": "stdout",
     "output_type": "stream",
     "text": [
      "Model Accuracy: 98.5\n"
     ]
    }
   ],
   "source": [
    "print('Model Accuracy:',round(model_accuracy,2))"
   ]
  },
  {
   "cell_type": "markdown",
   "metadata": {},
   "source": [
    "### Saving Model"
   ]
  },
  {
   "cell_type": "code",
   "execution_count": 151,
   "metadata": {},
   "outputs": [],
   "source": [
    "model.save('mob_price_model.h5')"
   ]
  },
  {
   "cell_type": "code",
   "execution_count": 152,
   "metadata": {},
   "outputs": [
    {
     "data": {
      "text/plain": [
       "['mob_price_scaler.pkl']"
      ]
     },
     "execution_count": 152,
     "metadata": {},
     "output_type": "execute_result"
    }
   ],
   "source": [
    "import joblib\n",
    "\n",
    "joblib.dump(scaler,'mob_price_scaler.pkl')"
   ]
  },
  {
   "cell_type": "code",
   "execution_count": null,
   "metadata": {},
   "outputs": [],
   "source": []
  }
 ],
 "metadata": {
  "kernelspec": {
   "display_name": "Python 3",
   "language": "python",
   "name": "python3"
  },
  "language_info": {
   "codemirror_mode": {
    "name": "ipython",
    "version": 3
   },
   "file_extension": ".py",
   "mimetype": "text/x-python",
   "name": "python",
   "nbconvert_exporter": "python",
   "pygments_lexer": "ipython3",
   "version": "3.8.3"
  }
 },
 "nbformat": 4,
 "nbformat_minor": 4
}
