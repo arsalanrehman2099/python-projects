{
 "cells": [
  {
   "cell_type": "markdown",
   "metadata": {},
   "source": [
    "# Breast Cancer Classifier"
   ]
  },
  {
   "cell_type": "markdown",
   "metadata": {},
   "source": [
    "## Prediction Function"
   ]
  },
  {
   "cell_type": "markdown",
   "metadata": {},
   "source": [
    "### Importing libraries"
   ]
  },
  {
   "cell_type": "code",
   "execution_count": 1,
   "metadata": {},
   "outputs": [],
   "source": [
    "from tensorflow.keras.models import load_model\n",
    "import joblib\n",
    "import numpy as np"
   ]
  },
  {
   "cell_type": "markdown",
   "metadata": {},
   "source": [
    "### Load trained model and scaler object "
   ]
  },
  {
   "cell_type": "code",
   "execution_count": 2,
   "metadata": {},
   "outputs": [],
   "source": [
    "cancer_model = load_model('breast_cancer_model.h5')\n",
    "cancer_scaler = joblib.load('breast_cancer_scaler.pkl')"
   ]
  },
  {
   "cell_type": "markdown",
   "metadata": {},
   "source": [
    "### Prediction Function"
   ]
  },
  {
   "cell_type": "code",
   "execution_count": 8,
   "metadata": {},
   "outputs": [],
   "source": [
    "def cancer_prediction(data,model,scaler):\n",
    "    \n",
    "    CDH1_TC = 0\n",
    "    CDH1_TT = 0\n",
    "    PTEN_CT = 0\n",
    "    PTEN_TT = 0\n",
    "    TP53_TC = 0\n",
    "    TP53_TT = 0\n",
    "    ATM_GA = 0\n",
    "    ATM_GG = 0\n",
    "    ATM_1_TC = 0\n",
    "    ATM_1_TT = 0\n",
    "    ATM_2_GT = 0\n",
    "    ATM_2_TT = 0\n",
    "    NBN_AG = 0\n",
    "    NBN_GG = 0\n",
    "    NBN_1_CG = 0\n",
    "    NBN_1_GG = 0\n",
    "    NBN_2_GA = 0\n",
    "    NBN_2_GG = 0\n",
    "    AKT1_CA = 0\n",
    "    AKT1_CC = 0\n",
    "    BRCA1_GA = 0\n",
    "    BRCA1_GG = 0\n",
    "    BRCA2_AG = 0\n",
    "    BRCA2_GG = 0\n",
    "    BRCA2_1_CA = 0\n",
    "    BRCA2_1_CC = 0\n",
    "    BRCA2_2_CA = 0\n",
    "    BRCA2_2_CC = 0\n",
    "    BRCA2_3_AG = 0\n",
    "    BRCA2_3_GG = 0\n",
    "    \n",
    "    if data['CDH1'] == 'TC':\n",
    "        CDH1_TC = 1\n",
    "    if data['CDH1'] == 'TT':\n",
    "        CDH1_TT = 1\n",
    "    if data['PTEN'] == 'CT':\n",
    "        PTEN_CT = 1\n",
    "    if data['PTEN'] == 'TT':\n",
    "        PTEN_TT = 1\n",
    "    if data['TP53'] == 'TC':\n",
    "        TP53_TC = 1\n",
    "    if data['TP53'] == 'TT':\n",
    "        TP53_TT = 1\n",
    "    if data['ATM'] == 'GA':\n",
    "        ATM_GA = 1\n",
    "    if data['ATM'] == 'GG':\n",
    "        ATM_GG = 1\n",
    "    if data['ATM_1'] == 'TC':\n",
    "        ATM_1_TC = 1\n",
    "    if data['ATM_1'] == 'TT':\n",
    "        ATM_1_TT = 1\n",
    "    if data['ATM_2'] == 'GT':\n",
    "        ATM_2_GT = 1\n",
    "    if data['ATM_2'] == 'TT':\n",
    "        ATM_2_TT = 1\n",
    "    if data['NBN'] == 'AG':\n",
    "        NBN_AG = 1\n",
    "    if data['NBN'] == 'GG':\n",
    "        NBN_GG = 1\n",
    "    if data['NBN_1'] == 'CG':\n",
    "        NBN_1_CG = 1\n",
    "    if data['NBN_1'] == 'GG':\n",
    "        NBN_1_GG = 1\n",
    "    if data['NBN_2'] == 'GA':\n",
    "        NBN_2_GA = 1\n",
    "    if data['NBN_2'] == 'GG':\n",
    "        NBN_2_GG = 1\n",
    "    if data['AKT1'] == 'CA':\n",
    "        AKT1_CA = 1\n",
    "    if data['AKT1'] == 'CC':\n",
    "        AKT1_CC = 1\n",
    "    if data['BRCA1'] == 'GA':\n",
    "        BRCA1_GA = 1\n",
    "    if data['BRCA1'] == 'GG':\n",
    "        BRCA1_GG = 1\n",
    "    if data['BRCA2'] == 'AG':\n",
    "        BRCA2_AG = 1\n",
    "    if data['BRCA2'] == 'GG':\n",
    "        BRCA2_GG = 1\n",
    "    if data['BRCA2_1'] == 'CA':\n",
    "        BRCA2_1_CA = 1\n",
    "    if data['BRCA2_1'] == 'CC':\n",
    "        BRCA2_1_CC = 1\n",
    "    if data['BRCA2_2'] == 'CA':\n",
    "        BRCA2_2_CA = 1\n",
    "    if data['BRCA2_2'] == 'CC':\n",
    "        BRCA2_2_CC = 1\n",
    "    if data['BRCA2_3'] == 'AG':\n",
    "        BRCA2_3_AG = 1\n",
    "    if data['BRCA2_3'] == 'GG':\n",
    "        BRCA2_3_GG = 1\n",
    "    \n",
    "    \n",
    "    prediction_data = [[CDH1_TC, CDH1_TT, PTEN_CT, PTEN_TT,\n",
    "        TP53_TC , TP53_TT, ATM_GA , ATM_GG , ATM_1_TC, ATM_1_TT ,\n",
    "        ATM_2_GT, ATM_2_TT, NBN_AG, NBN_GG, NBN_1_CG, NBN_1_GG,\n",
    "        NBN_2_GA, NBN_2_GG, AKT1_CA, AKT1_CC, BRCA1_GA, BRCA1_GG,\n",
    "        BRCA2_AG, BRCA2_GG, BRCA2_1_CA, BRCA2_1_CC, BRCA2_2_CA, \n",
    "        BRCA2_2_CC, BRCA2_3_AG, BRCA2_3_GG,\n",
    "    ]]\n",
    "    \n",
    "    scaled_pred_data = scaler.transform(prediction_data)\n",
    "    \n",
    "    result = (model.predict(scaled_pred_data) > 0.5).astype(\"int32\")   \n",
    "\n",
    "    if result[0]==0:\n",
    "        print('Cancer not detected')\n",
    "    else:\n",
    "        print('Cancer Detected')"
   ]
  },
  {
   "cell_type": "markdown",
   "metadata": {},
   "source": [
    "### Data to be predict"
   ]
  },
  {
   "cell_type": "code",
   "execution_count": 9,
   "metadata": {},
   "outputs": [],
   "source": [
    "prediction_data = {\n",
    "    'CDH1' : 'TT', \n",
    "    'PTEN' : 'CC', \n",
    "    'TP53' : 'TC', \n",
    "    'ATM' : 'GG', \n",
    "    'ATM_1' : 'TT', \n",
    "    'ATM_2' : 'GT', \n",
    "    'NBN' : 'AA', \n",
    "    'NBN_1' : 'CC',\n",
    "    'NBN_2' : 'AA', \n",
    "    'AKT1' : 'CC', \n",
    "    'BRCA1' : 'AA', \n",
    "    'BRCA2' : 'AA', \n",
    "    'BRCA2_1' : 'CA', \n",
    "    'BRCA2_2' : 'AA', \n",
    "    'BRCA2_3' : 'AA'\n",
    "}\n"
   ]
  },
  {
   "cell_type": "markdown",
   "metadata": {},
   "source": [
    "### Making Prediction"
   ]
  },
  {
   "cell_type": "code",
   "execution_count": 10,
   "metadata": {},
   "outputs": [
    {
     "name": "stdout",
     "output_type": "stream",
     "text": [
      "Cancer Detected\n"
     ]
    }
   ],
   "source": [
    "cancer_prediction(prediction_data,cancer_model,cancer_scaler)"
   ]
  },
  {
   "cell_type": "code",
   "execution_count": null,
   "metadata": {},
   "outputs": [],
   "source": []
  }
 ],
 "metadata": {
  "kernelspec": {
   "display_name": "Python 3",
   "language": "python",
   "name": "python3"
  },
  "language_info": {
   "codemirror_mode": {
    "name": "ipython",
    "version": 3
   },
   "file_extension": ".py",
   "mimetype": "text/x-python",
   "name": "python",
   "nbconvert_exporter": "python",
   "pygments_lexer": "ipython3",
   "version": "3.8.3"
  }
 },
 "nbformat": 4,
 "nbformat_minor": 4
}
