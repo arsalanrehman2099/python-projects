{
 "cells": [
  {
   "cell_type": "markdown",
   "metadata": {},
   "source": [
    "# Breast Cancer Classifier"
   ]
  },
  {
   "cell_type": "markdown",
   "metadata": {},
   "source": [
    "## Import Library"
   ]
  },
  {
   "cell_type": "code",
   "execution_count": 1,
   "metadata": {},
   "outputs": [],
   "source": [
    "import numpy as np\n",
    "import pandas as pd\n",
    "import matplotlib.pyplot as plt\n",
    "import seaborn as sns\n",
    "\n",
    "sns.set()"
   ]
  },
  {
   "cell_type": "code",
   "execution_count": 2,
   "metadata": {},
   "outputs": [],
   "source": [
    "import warnings\n",
    "warnings.filterwarnings(\"ignore\")"
   ]
  },
  {
   "cell_type": "code",
   "execution_count": 3,
   "metadata": {},
   "outputs": [],
   "source": [
    "from sklearn.preprocessing import MinMaxScaler\n",
    "from sklearn.model_selection import train_test_split"
   ]
  },
  {
   "cell_type": "code",
   "execution_count": 4,
   "metadata": {},
   "outputs": [],
   "source": [
    "from tensorflow.keras.models import Sequential\n",
    "from tensorflow.keras.layers import Dense\n",
    "from tensorflow.keras.layers import Dropout\n",
    "from tensorflow.keras.callbacks import EarlyStopping"
   ]
  },
  {
   "cell_type": "markdown",
   "metadata": {},
   "source": [
    "## Load the dataset"
   ]
  },
  {
   "cell_type": "code",
   "execution_count": 5,
   "metadata": {},
   "outputs": [
    {
     "data": {
      "text/html": [
       "<div>\n",
       "<style scoped>\n",
       "    .dataframe tbody tr th:only-of-type {\n",
       "        vertical-align: middle;\n",
       "    }\n",
       "\n",
       "    .dataframe tbody tr th {\n",
       "        vertical-align: top;\n",
       "    }\n",
       "\n",
       "    .dataframe thead th {\n",
       "        text-align: right;\n",
       "    }\n",
       "</style>\n",
       "<table border=\"1\" class=\"dataframe\">\n",
       "  <thead>\n",
       "    <tr style=\"text-align: right;\">\n",
       "      <th></th>\n",
       "      <th>Unnamed: 0</th>\n",
       "      <th>FGFR2</th>\n",
       "      <th>PHB</th>\n",
       "      <th>GATA3</th>\n",
       "      <th>AKT1</th>\n",
       "      <th>NQO2</th>\n",
       "      <th>BRCA2</th>\n",
       "      <th>LSP1</th>\n",
       "      <th>FGFR1</th>\n",
       "      <th>CDH1</th>\n",
       "      <th>...</th>\n",
       "      <th>KRAS</th>\n",
       "      <th>FOXA1</th>\n",
       "      <th>CCND1</th>\n",
       "      <th>ABCC12</th>\n",
       "      <th>CDKN1B.2</th>\n",
       "      <th>BRCA1</th>\n",
       "      <th>LSP1.1</th>\n",
       "      <th>GATA3.2</th>\n",
       "      <th>NBN.2</th>\n",
       "      <th>diagnose</th>\n",
       "    </tr>\n",
       "  </thead>\n",
       "  <tbody>\n",
       "    <tr>\n",
       "      <th>0</th>\n",
       "      <td>0</td>\n",
       "      <td>GT</td>\n",
       "      <td>CC</td>\n",
       "      <td>AA</td>\n",
       "      <td>CA</td>\n",
       "      <td>CT</td>\n",
       "      <td>AA</td>\n",
       "      <td>GC</td>\n",
       "      <td>TT</td>\n",
       "      <td>TT</td>\n",
       "      <td>...</td>\n",
       "      <td>CA</td>\n",
       "      <td>TC</td>\n",
       "      <td>AA</td>\n",
       "      <td>AA</td>\n",
       "      <td>AA</td>\n",
       "      <td>GA</td>\n",
       "      <td>GA</td>\n",
       "      <td>AA</td>\n",
       "      <td>AA</td>\n",
       "      <td>0</td>\n",
       "    </tr>\n",
       "    <tr>\n",
       "      <th>1</th>\n",
       "      <td>1</td>\n",
       "      <td>CT</td>\n",
       "      <td>CC</td>\n",
       "      <td>GA</td>\n",
       "      <td>CC</td>\n",
       "      <td>CT</td>\n",
       "      <td>AA</td>\n",
       "      <td>GC</td>\n",
       "      <td>TT</td>\n",
       "      <td>TT</td>\n",
       "      <td>...</td>\n",
       "      <td>CC</td>\n",
       "      <td>TT</td>\n",
       "      <td>CA</td>\n",
       "      <td>AA</td>\n",
       "      <td>CA</td>\n",
       "      <td>AA</td>\n",
       "      <td>GA</td>\n",
       "      <td>AA</td>\n",
       "      <td>AA</td>\n",
       "      <td>1</td>\n",
       "    </tr>\n",
       "    <tr>\n",
       "      <th>2</th>\n",
       "      <td>2</td>\n",
       "      <td>TT</td>\n",
       "      <td>CC</td>\n",
       "      <td>GA</td>\n",
       "      <td>CC</td>\n",
       "      <td>TT</td>\n",
       "      <td>AG</td>\n",
       "      <td>CC</td>\n",
       "      <td>TT</td>\n",
       "      <td>TT</td>\n",
       "      <td>...</td>\n",
       "      <td>CA</td>\n",
       "      <td>CC</td>\n",
       "      <td>CC</td>\n",
       "      <td>GG</td>\n",
       "      <td>AA</td>\n",
       "      <td>AA</td>\n",
       "      <td>GG</td>\n",
       "      <td>AA</td>\n",
       "      <td>AA</td>\n",
       "      <td>0</td>\n",
       "    </tr>\n",
       "    <tr>\n",
       "      <th>3</th>\n",
       "      <td>3</td>\n",
       "      <td>CT</td>\n",
       "      <td>TC</td>\n",
       "      <td>AA</td>\n",
       "      <td>CC</td>\n",
       "      <td>CC</td>\n",
       "      <td>AG</td>\n",
       "      <td>CC</td>\n",
       "      <td>CT</td>\n",
       "      <td>TC</td>\n",
       "      <td>...</td>\n",
       "      <td>CA</td>\n",
       "      <td>CC</td>\n",
       "      <td>CA</td>\n",
       "      <td>GA</td>\n",
       "      <td>CA</td>\n",
       "      <td>GA</td>\n",
       "      <td>GG</td>\n",
       "      <td>AA</td>\n",
       "      <td>GA</td>\n",
       "      <td>1</td>\n",
       "    </tr>\n",
       "    <tr>\n",
       "      <th>4</th>\n",
       "      <td>4</td>\n",
       "      <td>TT</td>\n",
       "      <td>TC</td>\n",
       "      <td>GA</td>\n",
       "      <td>CA</td>\n",
       "      <td>TT</td>\n",
       "      <td>AG</td>\n",
       "      <td>GC</td>\n",
       "      <td>CT</td>\n",
       "      <td>TT</td>\n",
       "      <td>...</td>\n",
       "      <td>CC</td>\n",
       "      <td>CC</td>\n",
       "      <td>CC</td>\n",
       "      <td>AA</td>\n",
       "      <td>AA</td>\n",
       "      <td>GG</td>\n",
       "      <td>GG</td>\n",
       "      <td>AA</td>\n",
       "      <td>GA</td>\n",
       "      <td>0</td>\n",
       "    </tr>\n",
       "  </tbody>\n",
       "</table>\n",
       "<p>5 rows × 59 columns</p>\n",
       "</div>"
      ],
      "text/plain": [
       "   Unnamed: 0 FGFR2 PHB GATA3 AKT1 NQO2 BRCA2 LSP1 FGFR1 CDH1  ... KRAS FOXA1  \\\n",
       "0           0    GT  CC    AA   CA   CT    AA   GC    TT   TT  ...   CA    TC   \n",
       "1           1    CT  CC    GA   CC   CT    AA   GC    TT   TT  ...   CC    TT   \n",
       "2           2    TT  CC    GA   CC   TT    AG   CC    TT   TT  ...   CA    CC   \n",
       "3           3    CT  TC    AA   CC   CC    AG   CC    CT   TC  ...   CA    CC   \n",
       "4           4    TT  TC    GA   CA   TT    AG   GC    CT   TT  ...   CC    CC   \n",
       "\n",
       "  CCND1 ABCC12 CDKN1B.2 BRCA1 LSP1.1 GATA3.2 NBN.2 diagnose  \n",
       "0    AA     AA       AA    GA     GA      AA    AA        0  \n",
       "1    CA     AA       CA    AA     GA      AA    AA        1  \n",
       "2    CC     GG       AA    AA     GG      AA    AA        0  \n",
       "3    CA     GA       CA    GA     GG      AA    GA        1  \n",
       "4    CC     AA       AA    GG     GG      AA    GA        0  \n",
       "\n",
       "[5 rows x 59 columns]"
      ]
     },
     "execution_count": 5,
     "metadata": {},
     "output_type": "execute_result"
    }
   ],
   "source": [
    "raw_df = pd.read_excel('./Data file Genotypes_cases with gene names.xlsx')\n",
    "raw_df.head()"
   ]
  },
  {
   "cell_type": "code",
   "execution_count": 9,
   "metadata": {},
   "outputs": [],
   "source": [
    "raw_df.drop(raw_df.columns[0],axis=1,inplace=True)"
   ]
  },
  {
   "cell_type": "markdown",
   "metadata": {},
   "source": [
    "## Data Analytics"
   ]
  },
  {
   "cell_type": "code",
   "execution_count": 14,
   "metadata": {},
   "outputs": [
    {
     "data": {
      "text/plain": [
       "(20896, 58)"
      ]
     },
     "execution_count": 14,
     "metadata": {},
     "output_type": "execute_result"
    }
   ],
   "source": [
    "raw_df.shape"
   ]
  },
  {
   "cell_type": "code",
   "execution_count": 13,
   "metadata": {},
   "outputs": [
    {
     "name": "stdout",
     "output_type": "stream",
     "text": [
      "<class 'pandas.core.frame.DataFrame'>\n",
      "RangeIndex: 20896 entries, 0 to 20895\n",
      "Data columns (total 58 columns):\n",
      " #   Column    Non-Null Count  Dtype \n",
      "---  ------    --------------  ----- \n",
      " 0   FGFR2     20896 non-null  object\n",
      " 1   PHB       20896 non-null  object\n",
      " 2   GATA3     20896 non-null  object\n",
      " 3   AKT1      20896 non-null  object\n",
      " 4   NQO2      20896 non-null  object\n",
      " 5   BRCA2     20896 non-null  object\n",
      " 6   LSP1      20896 non-null  object\n",
      " 7   FGFR1     20896 non-null  object\n",
      " 8   CDH1      20896 non-null  object\n",
      " 9   NBN       20896 non-null  object\n",
      " 10  BRCA2.1   20896 non-null  object\n",
      " 11  BRCA2.2   20896 non-null  object\n",
      " 12  NQO2.1    20896 non-null  object\n",
      " 13  NQO2.2    20896 non-null  object\n",
      " 14  RB1CC1    20896 non-null  object\n",
      " 15  CASP8     20896 non-null  object\n",
      " 16  BRCA2.3   20896 non-null  object\n",
      " 17  MLH1      20896 non-null  object\n",
      " 18  ATM       20896 non-null  object\n",
      " 19  NBN.1     20896 non-null  object\n",
      " 20  EP300     20896 non-null  object\n",
      " 21  CDKN1B    20896 non-null  object\n",
      " 22  NQO2.3    20896 non-null  object\n",
      " 23  PMS2      20896 non-null  object\n",
      " 24  GATA3.1   20896 non-null  object\n",
      " 25  TNFRSF14  20896 non-null  object\n",
      " 26  MYH9      20896 non-null  object\n",
      " 27  MYH9.1    20896 non-null  object\n",
      " 28  XRCC1     20896 non-null  object\n",
      " 29  XRCC1.1   20896 non-null  object\n",
      " 30  MDM2      20896 non-null  object\n",
      " 31  TP53      20896 non-null  object\n",
      " 32  CDKN2A    20896 non-null  object\n",
      " 33  ATM.1     20896 non-null  object\n",
      " 34  XRCC2     20896 non-null  object\n",
      " 35  XRCC2.1   20896 non-null  object\n",
      " 36  XRCC2.2   20896 non-null  object\n",
      " 37  CDKN1B.1  20896 non-null  object\n",
      " 38  APC       20896 non-null  object\n",
      " 39  FANCF     20896 non-null  object\n",
      " 40  SIPA1     20896 non-null  object\n",
      " 41  ERBB2     20896 non-null  object\n",
      " 42  ATM.2     20896 non-null  object\n",
      " 43  APC.1     20896 non-null  object\n",
      " 44  FANCC     20896 non-null  object\n",
      " 45  FANCC.1   20896 non-null  object\n",
      " 46  PHB.1     20896 non-null  object\n",
      " 47  PTEN      20896 non-null  object\n",
      " 48  KRAS      20896 non-null  object\n",
      " 49  FOXA1     20896 non-null  object\n",
      " 50  CCND1     20896 non-null  object\n",
      " 51  ABCC12    20896 non-null  object\n",
      " 52  CDKN1B.2  20896 non-null  object\n",
      " 53  BRCA1     20896 non-null  object\n",
      " 54  LSP1.1    20896 non-null  object\n",
      " 55  GATA3.2   20896 non-null  object\n",
      " 56  NBN.2     20896 non-null  object\n",
      " 57  diagnose  20896 non-null  int64 \n",
      "dtypes: int64(1), object(57)\n",
      "memory usage: 9.2+ MB\n"
     ]
    }
   ],
   "source": [
    "raw_df.info()"
   ]
  },
  {
   "cell_type": "markdown",
   "metadata": {},
   "source": [
    "### Checking Null Values"
   ]
  },
  {
   "cell_type": "code",
   "execution_count": 18,
   "metadata": {},
   "outputs": [
    {
     "data": {
      "text/plain": [
       "<matplotlib.axes._subplots.AxesSubplot at 0x1d525f79340>"
      ]
     },
     "execution_count": 18,
     "metadata": {},
     "output_type": "execute_result"
    },
    {
     "data": {
      "image/png": "[encoded data removed]",
      "text/plain": [
       "<Figure size 432x288 with 2 Axes>"
      ]
     },
     "metadata": {},
     "output_type": "display_data"
    }
   ],
   "source": [
    "sns.heatmap(raw_df.isnull())"
   ]
  },
  {
   "cell_type": "markdown",
   "metadata": {},
   "source": [
    "## Data Visualization"
   ]
  },
  {
   "cell_type": "code",
   "execution_count": 22,
   "metadata": {},
   "outputs": [
    {
     "data": {
      "image/png": "[encoded data removed]",
      "text/plain": [
       "<Figure size 864x360 with 2 Axes>"
      ]
     },
     "metadata": {},
     "output_type": "display_data"
    }
   ],
   "source": [
    "plt.figure(figsize=(12,5))\n",
    "\n",
    "plt.subplot(1, 2, 1)\n",
    "sns.countplot(raw_df['BRCA1'],hue=raw_df['diagnose'])\n",
    "plt.title('BRCA1',fontsize=15)\n",
    "\n",
    "\n",
    "plt.subplot(1, 2, 2)\n",
    "sns.countplot(raw_df['BRCA2'],hue=raw_df['diagnose'],palette='mako')\n",
    "plt.title('BRCA2',fontsize=15)\n",
    "\n",
    "plt.show()"
   ]
  },
  {
   "cell_type": "code",
   "execution_count": 23,
   "metadata": {},
   "outputs": [
    {
     "data": {
      "image/png": "[encoded data removed]",
      "text/plain": [
       "<Figure size 1080x360 with 3 Axes>"
      ]
     },
     "metadata": {},
     "output_type": "display_data"
    }
   ],
   "source": [
    "plt.figure(figsize=(15,5))\n",
    "\n",
    "plt.subplot(1, 3, 1)\n",
    "sns.countplot(raw_df['BRCA2.1'],hue=raw_df['diagnose'],palette='icefire')\n",
    "plt.title('BRCA2.1',fontsize=15)\n",
    "\n",
    "\n",
    "plt.subplot(1, 3, 2)\n",
    "sns.countplot(raw_df['BRCA2.2'],hue=raw_df['diagnose'],palette='mako')\n",
    "plt.title('BRCA2.2',fontsize=15)\n",
    "\n",
    "\n",
    "plt.subplot(1, 3, 3)\n",
    "sns.countplot(raw_df['BRCA2.3'],hue=raw_df['diagnose'],palette='rocket')\n",
    "plt.title('BRCA2.3',fontsize=15)\n",
    "\n",
    "\n",
    "plt.show()"
   ]
  },
  {
   "cell_type": "code",
   "execution_count": 24,
   "metadata": {},
   "outputs": [
    {
     "data": {
      "image/png": "[encoded data removed]",
      "text/plain": [
       "<Figure size 1080x360 with 3 Axes>"
      ]
     },
     "metadata": {},
     "output_type": "display_data"
    }
   ],
   "source": [
    "plt.figure(figsize=(15,5))\n",
    "\n",
    "plt.subplot(1, 3, 1)\n",
    "sns.countplot(raw_df['NBN'],hue=raw_df['diagnose'],palette='cubehelix')\n",
    "plt.title('NBN',fontsize=15)\n",
    "\n",
    "\n",
    "plt.subplot(1, 3, 2)\n",
    "sns.countplot(raw_df['NBN.1'],hue=raw_df['diagnose'],palette='mako')\n",
    "plt.title('NBN.1',fontsize=15)\n",
    "\n",
    "\n",
    "plt.subplot(1, 3, 3)\n",
    "sns.countplot(raw_df['NBN.2'],hue=raw_df['diagnose'],palette='YlOrBr')\n",
    "plt.title('NBN.2',fontsize=15)\n",
    "\n",
    "\n",
    "plt.show()"
   ]
  },
  {
   "cell_type": "code",
   "execution_count": 25,
   "metadata": {},
   "outputs": [
    {
     "data": {
      "image/png": "[encoded data removed]",
      "text/plain": [
       "<Figure size 1080x432 with 3 Axes>"
      ]
     },
     "metadata": {},
     "output_type": "display_data"
    }
   ],
   "source": [
    "plt.figure(figsize=(15,6))\n",
    "\n",
    "plt.subplot(1, 3, 1)\n",
    "sns.countplot(raw_df['ATM'],hue=raw_df['diagnose'],palette='mako')\n",
    "plt.title('ATM',fontsize=15)\n",
    "\n",
    "\n",
    "plt.subplot(1, 3, 2)\n",
    "sns.countplot(raw_df['ATM.1'],hue=raw_df['diagnose'],palette='rocket')\n",
    "plt.title('ATM.1',fontsize=15)\n",
    "\n",
    "\n",
    "plt.subplot(1, 3, 3)\n",
    "sns.countplot(raw_df['ATM.2'],hue=raw_df['diagnose'],palette='icefire')\n",
    "plt.title('ATM.2',fontsize=15)\n",
    "\n",
    "\n",
    "plt.show()"
   ]
  },
  {
   "cell_type": "code",
   "execution_count": 32,
   "metadata": {},
   "outputs": [
    {
     "data": {
      "image/png": "[encoded data removed]",
      "text/plain": [
       "<Figure size 576x432 with 1 Axes>"
      ]
     },
     "metadata": {},
     "output_type": "display_data"
    }
   ],
   "source": [
    "plt.figure(figsize=(8,6))\n",
    "plt.pie(raw_df['CDH1'].value_counts(),autopct='%1.1f%%',labels=raw_df['CDH1'].unique())\n",
    "plt.title('CDH1',fontsize=15)\n",
    "plt.legend()\n",
    "plt.show()"
   ]
  },
  {
   "cell_type": "code",
   "execution_count": 34,
   "metadata": {},
   "outputs": [
    {
     "data": {
      "image/png": "[encoded data removed]",
      "text/plain": [
       "<Figure size 432x288 with 1 Axes>"
      ]
     },
     "metadata": {},
     "output_type": "display_data"
    }
   ],
   "source": [
    "sns.countplot(y=raw_df['PTEN'],hue=raw_df['diagnose'],palette='mako')\n",
    "plt.title('PTEN',fontsize=15)\n",
    "plt.show()"
   ]
  },
  {
   "cell_type": "markdown",
   "metadata": {},
   "source": [
    "## Feature Engineering"
   ]
  },
  {
   "cell_type": "code",
   "execution_count": 35,
   "metadata": {},
   "outputs": [],
   "source": [
    "df = raw_df[['CDH1','PTEN','TP53','ATM','ATM.1','ATM.2','NBN','NBN.1','NBN.2','AKT1','BRCA1','BRCA2','BRCA2.1', 'BRCA2.2','BRCA2.3','diagnose']]"
   ]
  },
  {
   "cell_type": "code",
   "execution_count": 36,
   "metadata": {},
   "outputs": [
    {
     "data": {
      "text/plain": [
       "(20896, 16)"
      ]
     },
     "execution_count": 36,
     "metadata": {},
     "output_type": "execute_result"
    }
   ],
   "source": [
    "df.shape"
   ]
  },
  {
   "cell_type": "markdown",
   "metadata": {},
   "source": [
    "## Converting Categorical Values into Numerical"
   ]
  },
  {
   "cell_type": "code",
   "execution_count": 40,
   "metadata": {},
   "outputs": [
    {
     "data": {
      "text/plain": [
       "Index(['diagnose', 'CDH1_CC', 'CDH1_TC', 'CDH1_TT', 'PTEN_CC', 'PTEN_CT',\n",
       "       'PTEN_TT', 'TP53_CC', 'TP53_TC', 'TP53_TT', 'ATM_AA', 'ATM_GA',\n",
       "       'ATM_GG', 'ATM.1_CC', 'ATM.1_TC', 'ATM.1_TT', 'ATM.2_GG', 'ATM.2_GT',\n",
       "       'ATM.2_TT', 'NBN_AA', 'NBN_AG', 'NBN_GG', 'NBN.1_CC', 'NBN.1_CG',\n",
       "       'NBN.1_GG', 'NBN.2_AA', 'NBN.2_GA', 'NBN.2_GG', 'AKT1_AA', 'AKT1_CA',\n",
       "       'AKT1_CC', 'BRCA1_AA', 'BRCA1_GA', 'BRCA1_GG', 'BRCA2_AA', 'BRCA2_AG',\n",
       "       'BRCA2_GG', 'BRCA2.1_AA', 'BRCA2.1_CA', 'BRCA2.1_CC', 'BRCA2.2_AA',\n",
       "       'BRCA2.2_CA', 'BRCA2.2_CC', 'BRCA2.3_AA', 'BRCA2.3_AG', 'BRCA2.3_GG'],\n",
       "      dtype='object')"
      ]
     },
     "execution_count": 40,
     "metadata": {},
     "output_type": "execute_result"
    }
   ],
   "source": [
    "pd.get_dummies(df).columns"
   ]
  },
  {
   "cell_type": "code",
   "execution_count": 41,
   "metadata": {},
   "outputs": [],
   "source": [
    "df = pd.get_dummies(df,drop_first=True)"
   ]
  },
  {
   "cell_type": "code",
   "execution_count": 42,
   "metadata": {},
   "outputs": [
    {
     "data": {
      "text/html": [
       "<div>\n",
       "<style scoped>\n",
       "    .dataframe tbody tr th:only-of-type {\n",
       "        vertical-align: middle;\n",
       "    }\n",
       "\n",
       "    .dataframe tbody tr th {\n",
       "        vertical-align: top;\n",
       "    }\n",
       "\n",
       "    .dataframe thead th {\n",
       "        text-align: right;\n",
       "    }\n",
       "</style>\n",
       "<table border=\"1\" class=\"dataframe\">\n",
       "  <thead>\n",
       "    <tr style=\"text-align: right;\">\n",
       "      <th></th>\n",
       "      <th>diagnose</th>\n",
       "      <th>CDH1_TC</th>\n",
       "      <th>CDH1_TT</th>\n",
       "      <th>PTEN_CT</th>\n",
       "      <th>PTEN_TT</th>\n",
       "      <th>TP53_TC</th>\n",
       "      <th>TP53_TT</th>\n",
       "      <th>ATM_GA</th>\n",
       "      <th>ATM_GG</th>\n",
       "      <th>ATM.1_TC</th>\n",
       "      <th>...</th>\n",
       "      <th>BRCA1_GA</th>\n",
       "      <th>BRCA1_GG</th>\n",
       "      <th>BRCA2_AG</th>\n",
       "      <th>BRCA2_GG</th>\n",
       "      <th>BRCA2.1_CA</th>\n",
       "      <th>BRCA2.1_CC</th>\n",
       "      <th>BRCA2.2_CA</th>\n",
       "      <th>BRCA2.2_CC</th>\n",
       "      <th>BRCA2.3_AG</th>\n",
       "      <th>BRCA2.3_GG</th>\n",
       "    </tr>\n",
       "  </thead>\n",
       "  <tbody>\n",
       "    <tr>\n",
       "      <th>0</th>\n",
       "      <td>0</td>\n",
       "      <td>0</td>\n",
       "      <td>1</td>\n",
       "      <td>1</td>\n",
       "      <td>0</td>\n",
       "      <td>0</td>\n",
       "      <td>1</td>\n",
       "      <td>0</td>\n",
       "      <td>1</td>\n",
       "      <td>0</td>\n",
       "      <td>...</td>\n",
       "      <td>1</td>\n",
       "      <td>0</td>\n",
       "      <td>0</td>\n",
       "      <td>0</td>\n",
       "      <td>1</td>\n",
       "      <td>0</td>\n",
       "      <td>0</td>\n",
       "      <td>1</td>\n",
       "      <td>0</td>\n",
       "      <td>0</td>\n",
       "    </tr>\n",
       "    <tr>\n",
       "      <th>1</th>\n",
       "      <td>1</td>\n",
       "      <td>0</td>\n",
       "      <td>1</td>\n",
       "      <td>0</td>\n",
       "      <td>0</td>\n",
       "      <td>1</td>\n",
       "      <td>0</td>\n",
       "      <td>0</td>\n",
       "      <td>1</td>\n",
       "      <td>0</td>\n",
       "      <td>...</td>\n",
       "      <td>0</td>\n",
       "      <td>0</td>\n",
       "      <td>0</td>\n",
       "      <td>0</td>\n",
       "      <td>1</td>\n",
       "      <td>0</td>\n",
       "      <td>0</td>\n",
       "      <td>0</td>\n",
       "      <td>0</td>\n",
       "      <td>0</td>\n",
       "    </tr>\n",
       "  </tbody>\n",
       "</table>\n",
       "<p>2 rows × 31 columns</p>\n",
       "</div>"
      ],
      "text/plain": [
       "   diagnose  CDH1_TC  CDH1_TT  PTEN_CT  PTEN_TT  TP53_TC  TP53_TT  ATM_GA  \\\n",
       "0         0        0        1        1        0        0        1       0   \n",
       "1         1        0        1        0        0        1        0       0   \n",
       "\n",
       "   ATM_GG  ATM.1_TC  ...  BRCA1_GA  BRCA1_GG  BRCA2_AG  BRCA2_GG  BRCA2.1_CA  \\\n",
       "0       1         0  ...         1         0         0         0           1   \n",
       "1       1         0  ...         0         0         0         0           1   \n",
       "\n",
       "   BRCA2.1_CC  BRCA2.2_CA  BRCA2.2_CC  BRCA2.3_AG  BRCA2.3_GG  \n",
       "0           0           0           1           0           0  \n",
       "1           0           0           0           0           0  \n",
       "\n",
       "[2 rows x 31 columns]"
      ]
     },
     "execution_count": 42,
     "metadata": {},
     "output_type": "execute_result"
    }
   ],
   "source": [
    "df.head(2)"
   ]
  },
  {
   "cell_type": "markdown",
   "metadata": {},
   "source": [
    "## Separating Dependent & Independent Variables "
   ]
  },
  {
   "cell_type": "code",
   "execution_count": 43,
   "metadata": {},
   "outputs": [],
   "source": [
    "X = df.drop('diagnose',axis=1).values\n",
    "y = df['diagnose'].values"
   ]
  },
  {
   "cell_type": "markdown",
   "metadata": {},
   "source": [
    "## Train Test Split"
   ]
  },
  {
   "cell_type": "code",
   "execution_count": 44,
   "metadata": {},
   "outputs": [],
   "source": [
    "X_train, X_test, y_train, y_test = train_test_split(X, y, test_size=0.3)"
   ]
  },
  {
   "cell_type": "markdown",
   "metadata": {},
   "source": [
    "## Standardizing Values"
   ]
  },
  {
   "cell_type": "code",
   "execution_count": 45,
   "metadata": {},
   "outputs": [],
   "source": [
    "scaler = MinMaxScaler()\n",
    "\n",
    "scaler.fit(X_train)\n",
    "\n",
    "X_train = scaler.transform(X_train)\n",
    "X_test = scaler.transform(X_test)"
   ]
  },
  {
   "cell_type": "markdown",
   "metadata": {},
   "source": [
    "## Building ANN Model"
   ]
  },
  {
   "cell_type": "code",
   "execution_count": 46,
   "metadata": {},
   "outputs": [],
   "source": [
    "model = Sequential()\n",
    "\n",
    "model.add(Dense(units=30,activation='relu'))\n",
    "model.add(Dropout(rate=0.5))\n",
    "\n",
    "model.add(Dense(units=15,activation='relu'))\n",
    "model.add(Dropout(rate=0.5))\n",
    "\n",
    "# BINARY CLASSIFICATION\n",
    "model.add(Dense(units=1,activation='sigmoid'))\n",
    "\n",
    "model.compile(optimizer='adam',loss='binary_crossentropy', metrics=['accuracy'])"
   ]
  },
  {
   "cell_type": "markdown",
   "metadata": {},
   "source": [
    "## Adding Early Stopping"
   ]
  },
  {
   "cell_type": "code",
   "execution_count": 47,
   "metadata": {},
   "outputs": [],
   "source": [
    "early_stop = EarlyStopping(monitor='val_loss',mode='min',verbose=1, patience=5)"
   ]
  },
  {
   "cell_type": "markdown",
   "metadata": {},
   "source": [
    "## Training Model"
   ]
  },
  {
   "cell_type": "code",
   "execution_count": 48,
   "metadata": {},
   "outputs": [
    {
     "name": "stdout",
     "output_type": "stream",
     "text": [
      "Epoch 1/200\n",
      "458/458 [==============================] - 3s 4ms/step - loss: 0.7084 - accuracy: 0.5085 - val_loss: 0.6880 - val_accuracy: 0.5534\n",
      "Epoch 2/200\n",
      "458/458 [==============================] - 1s 3ms/step - loss: 0.6886 - accuracy: 0.5271 - val_loss: 0.6778 - val_accuracy: 0.6130\n",
      "Epoch 3/200\n",
      "458/458 [==============================] - 1s 3ms/step - loss: 0.6815 - accuracy: 0.5403 - val_loss: 0.6614 - val_accuracy: 0.6406\n",
      "Epoch 4/200\n",
      "458/458 [==============================] - 1s 3ms/step - loss: 0.6643 - accuracy: 0.5863 - val_loss: 0.6389 - val_accuracy: 0.6688\n",
      "Epoch 5/200\n",
      "458/458 [==============================] - 1s 3ms/step - loss: 0.6514 - accuracy: 0.6060 - val_loss: 0.6115 - val_accuracy: 0.7007\n",
      "Epoch 6/200\n",
      "458/458 [==============================] - 1s 3ms/step - loss: 0.6311 - accuracy: 0.6352 - val_loss: 0.5901 - val_accuracy: 0.7296\n",
      "Epoch 7/200\n",
      "458/458 [==============================] - 1s 3ms/step - loss: 0.6134 - accuracy: 0.6514 - val_loss: 0.5493 - val_accuracy: 0.7459\n",
      "Epoch 8/200\n",
      "458/458 [==============================] - 1s 3ms/step - loss: 0.5927 - accuracy: 0.6738 - val_loss: 0.5080 - val_accuracy: 0.7663\n",
      "Epoch 9/200\n",
      "458/458 [==============================] - 1s 3ms/step - loss: 0.5672 - accuracy: 0.6959 - val_loss: 0.4807 - val_accuracy: 0.8008\n",
      "Epoch 10/200\n",
      "458/458 [==============================] - 1s 3ms/step - loss: 0.5534 - accuracy: 0.7083 - val_loss: 0.4411 - val_accuracy: 0.8233\n",
      "Epoch 11/200\n",
      "458/458 [==============================] - 1s 3ms/step - loss: 0.5302 - accuracy: 0.7274 - val_loss: 0.4168 - val_accuracy: 0.8392\n",
      "Epoch 12/200\n",
      "458/458 [==============================] - 1s 3ms/step - loss: 0.5034 - accuracy: 0.7463 - val_loss: 0.3881 - val_accuracy: 0.8623\n",
      "Epoch 13/200\n",
      "458/458 [==============================] - 1s 3ms/step - loss: 0.4864 - accuracy: 0.7598 - val_loss: 0.3655 - val_accuracy: 0.8818\n",
      "Epoch 14/200\n",
      "458/458 [==============================] - 1s 3ms/step - loss: 0.4786 - accuracy: 0.7612 - val_loss: 0.3379 - val_accuracy: 0.8930\n",
      "Epoch 15/200\n",
      "458/458 [==============================] - 1s 3ms/step - loss: 0.4674 - accuracy: 0.7707 - val_loss: 0.3227 - val_accuracy: 0.8898\n",
      "Epoch 16/200\n",
      "458/458 [==============================] - 1s 3ms/step - loss: 0.4474 - accuracy: 0.7788 - val_loss: 0.3054 - val_accuracy: 0.9073\n",
      "Epoch 17/200\n",
      "458/458 [==============================] - 1s 3ms/step - loss: 0.4470 - accuracy: 0.7812 - val_loss: 0.2928 - val_accuracy: 0.9060\n",
      "Epoch 18/200\n",
      "458/458 [==============================] - 1s 3ms/step - loss: 0.4388 - accuracy: 0.7832 - val_loss: 0.2815 - val_accuracy: 0.9163\n",
      "Epoch 19/200\n",
      "458/458 [==============================] - 1s 3ms/step - loss: 0.4307 - accuracy: 0.7895 - val_loss: 0.2808 - val_accuracy: 0.9175\n",
      "Epoch 20/200\n",
      "458/458 [==============================] - 1s 3ms/step - loss: 0.4242 - accuracy: 0.7931 - val_loss: 0.2730 - val_accuracy: 0.9327\n",
      "Epoch 21/200\n",
      "458/458 [==============================] - 1s 3ms/step - loss: 0.4139 - accuracy: 0.8005 - val_loss: 0.2600 - val_accuracy: 0.9257\n",
      "Epoch 22/200\n",
      "458/458 [==============================] - 1s 3ms/step - loss: 0.4094 - accuracy: 0.8109 - val_loss: 0.2552 - val_accuracy: 0.9253\n",
      "Epoch 23/200\n",
      "458/458 [==============================] - 1s 3ms/step - loss: 0.4076 - accuracy: 0.8060 - val_loss: 0.2550 - val_accuracy: 0.9177\n",
      "Epoch 24/200\n",
      "458/458 [==============================] - 1s 3ms/step - loss: 0.4113 - accuracy: 0.7994 - val_loss: 0.2416 - val_accuracy: 0.9338\n",
      "Epoch 25/200\n",
      "458/458 [==============================] - 1s 3ms/step - loss: 0.3883 - accuracy: 0.8142 - val_loss: 0.2364 - val_accuracy: 0.9298\n",
      "Epoch 26/200\n",
      "458/458 [==============================] - 1s 3ms/step - loss: 0.3809 - accuracy: 0.8218 - val_loss: 0.2299 - val_accuracy: 0.9395\n",
      "Epoch 27/200\n",
      "458/458 [==============================] - 1s 3ms/step - loss: 0.3877 - accuracy: 0.8223 - val_loss: 0.2268 - val_accuracy: 0.9402\n",
      "Epoch 28/200\n",
      "458/458 [==============================] - 1s 3ms/step - loss: 0.3898 - accuracy: 0.8120 - val_loss: 0.2248 - val_accuracy: 0.9332\n",
      "Epoch 29/200\n",
      "458/458 [==============================] - 1s 3ms/step - loss: 0.3854 - accuracy: 0.8168 - val_loss: 0.2232 - val_accuracy: 0.9320\n",
      "Epoch 30/200\n",
      "458/458 [==============================] - 1s 3ms/step - loss: 0.3906 - accuracy: 0.8080 - val_loss: 0.2211 - val_accuracy: 0.9351\n",
      "Epoch 31/200\n",
      "458/458 [==============================] - 1s 3ms/step - loss: 0.3859 - accuracy: 0.8123 - val_loss: 0.2157 - val_accuracy: 0.9338\n",
      "Epoch 32/200\n",
      "458/458 [==============================] - 1s 3ms/step - loss: 0.3783 - accuracy: 0.8216 - val_loss: 0.2199 - val_accuracy: 0.9301\n",
      "Epoch 33/200\n",
      "458/458 [==============================] - 1s 3ms/step - loss: 0.3744 - accuracy: 0.8198 - val_loss: 0.2095 - val_accuracy: 0.9279\n",
      "Epoch 34/200\n",
      "458/458 [==============================] - 1s 3ms/step - loss: 0.3900 - accuracy: 0.8099 - val_loss: 0.2111 - val_accuracy: 0.9333\n",
      "Epoch 35/200\n",
      "458/458 [==============================] - 1s 3ms/step - loss: 0.3755 - accuracy: 0.8179 - val_loss: 0.2023 - val_accuracy: 0.9392\n",
      "Epoch 36/200\n",
      "458/458 [==============================] - 1s 3ms/step - loss: 0.3720 - accuracy: 0.8252 - val_loss: 0.2054 - val_accuracy: 0.9403\n",
      "Epoch 37/200\n",
      "458/458 [==============================] - 1s 3ms/step - loss: 0.3718 - accuracy: 0.8166 - val_loss: 0.1992 - val_accuracy: 0.9400\n",
      "Epoch 38/200\n",
      "458/458 [==============================] - 1s 3ms/step - loss: 0.3778 - accuracy: 0.8191 - val_loss: 0.1966 - val_accuracy: 0.9357\n",
      "Epoch 39/200\n",
      "458/458 [==============================] - 1s 3ms/step - loss: 0.3654 - accuracy: 0.8252 - val_loss: 0.1976 - val_accuracy: 0.9364\n",
      "Epoch 40/200\n",
      "458/458 [==============================] - 1s 3ms/step - loss: 0.3541 - accuracy: 0.8292 - val_loss: 0.1900 - val_accuracy: 0.9386\n",
      "Epoch 41/200\n",
      "458/458 [==============================] - 1s 3ms/step - loss: 0.3672 - accuracy: 0.8130 - val_loss: 0.1875 - val_accuracy: 0.9472\n",
      "Epoch 42/200\n",
      "458/458 [==============================] - 1s 3ms/step - loss: 0.3666 - accuracy: 0.8227 - val_loss: 0.1867 - val_accuracy: 0.9448\n",
      "Epoch 43/200\n",
      "458/458 [==============================] - 1s 3ms/step - loss: 0.3715 - accuracy: 0.8121 - val_loss: 0.1904 - val_accuracy: 0.9504\n",
      "Epoch 44/200\n",
      "458/458 [==============================] - 1s 3ms/step - loss: 0.3680 - accuracy: 0.8183 - val_loss: 0.1817 - val_accuracy: 0.9424\n",
      "Epoch 45/200\n",
      "458/458 [==============================] - 1s 3ms/step - loss: 0.3555 - accuracy: 0.8247 - val_loss: 0.1847 - val_accuracy: 0.9456\n",
      "Epoch 46/200\n",
      "458/458 [==============================] - 1s 3ms/step - loss: 0.3542 - accuracy: 0.8236 - val_loss: 0.1879 - val_accuracy: 0.9387\n",
      "Epoch 47/200\n",
      "458/458 [==============================] - 1s 3ms/step - loss: 0.3650 - accuracy: 0.8154 - val_loss: 0.1833 - val_accuracy: 0.9490\n",
      "Epoch 48/200\n",
      "458/458 [==============================] - 1s 3ms/step - loss: 0.3558 - accuracy: 0.8200 - val_loss: 0.1793 - val_accuracy: 0.9496\n",
      "Epoch 49/200\n",
      "458/458 [==============================] - 1s 3ms/step - loss: 0.3474 - accuracy: 0.8200 - val_loss: 0.1831 - val_accuracy: 0.9410\n",
      "Epoch 50/200\n",
      "458/458 [==============================] - 1s 3ms/step - loss: 0.3574 - accuracy: 0.8203 - val_loss: 0.1731 - val_accuracy: 0.9450\n",
      "Epoch 51/200\n",
      "458/458 [==============================] - 1s 3ms/step - loss: 0.3499 - accuracy: 0.8262 - val_loss: 0.1735 - val_accuracy: 0.9523\n",
      "Epoch 52/200\n",
      "458/458 [==============================] - 1s 3ms/step - loss: 0.3484 - accuracy: 0.8261 - val_loss: 0.1737 - val_accuracy: 0.9451\n",
      "Epoch 53/200\n",
      "458/458 [==============================] - 1s 3ms/step - loss: 0.3435 - accuracy: 0.8236 - val_loss: 0.1784 - val_accuracy: 0.9477\n",
      "Epoch 54/200\n",
      "458/458 [==============================] - 1s 3ms/step - loss: 0.3501 - accuracy: 0.8284 - val_loss: 0.1727 - val_accuracy: 0.9474\n",
      "Epoch 55/200\n",
      "458/458 [==============================] - 1s 3ms/step - loss: 0.3529 - accuracy: 0.8210 - val_loss: 0.1668 - val_accuracy: 0.9470\n",
      "Epoch 56/200\n",
      "458/458 [==============================] - 1s 3ms/step - loss: 0.3521 - accuracy: 0.8207 - val_loss: 0.1638 - val_accuracy: 0.9553\n",
      "Epoch 57/200\n",
      "458/458 [==============================] - 1s 3ms/step - loss: 0.3336 - accuracy: 0.8283 - val_loss: 0.1652 - val_accuracy: 0.9526\n"
     ]
    },
    {
     "name": "stdout",
     "output_type": "stream",
     "text": [
      "Epoch 58/200\n",
      "458/458 [==============================] - 1s 3ms/step - loss: 0.3551 - accuracy: 0.8193 - val_loss: 0.1665 - val_accuracy: 0.9529\n",
      "Epoch 59/200\n",
      "458/458 [==============================] - 1s 3ms/step - loss: 0.3450 - accuracy: 0.8191 - val_loss: 0.1630 - val_accuracy: 0.9507\n",
      "Epoch 60/200\n",
      "458/458 [==============================] - 1s 3ms/step - loss: 0.3469 - accuracy: 0.8231 - val_loss: 0.1667 - val_accuracy: 0.9502\n",
      "Epoch 61/200\n",
      "458/458 [==============================] - 1s 3ms/step - loss: 0.3421 - accuracy: 0.8260 - val_loss: 0.1629 - val_accuracy: 0.9488\n",
      "Epoch 62/200\n",
      "458/458 [==============================] - 1s 3ms/step - loss: 0.3507 - accuracy: 0.8188 - val_loss: 0.1638 - val_accuracy: 0.9568\n",
      "Epoch 63/200\n",
      "458/458 [==============================] - 1s 3ms/step - loss: 0.3470 - accuracy: 0.8223 - val_loss: 0.1595 - val_accuracy: 0.9553\n",
      "Epoch 64/200\n",
      "458/458 [==============================] - 1s 3ms/step - loss: 0.3354 - accuracy: 0.8273 - val_loss: 0.1525 - val_accuracy: 0.9580\n",
      "Epoch 65/200\n",
      "458/458 [==============================] - 1s 3ms/step - loss: 0.3391 - accuracy: 0.8265 - val_loss: 0.1580 - val_accuracy: 0.9596\n",
      "Epoch 66/200\n",
      "458/458 [==============================] - 1s 3ms/step - loss: 0.3436 - accuracy: 0.8243 - val_loss: 0.1588 - val_accuracy: 0.9549\n",
      "Epoch 67/200\n",
      "458/458 [==============================] - 1s 3ms/step - loss: 0.3350 - accuracy: 0.8292 - val_loss: 0.1645 - val_accuracy: 0.9496\n",
      "Epoch 68/200\n",
      "458/458 [==============================] - 1s 3ms/step - loss: 0.3406 - accuracy: 0.8272 - val_loss: 0.1515 - val_accuracy: 0.9590\n",
      "Epoch 69/200\n",
      "458/458 [==============================] - 1s 3ms/step - loss: 0.3350 - accuracy: 0.8291 - val_loss: 0.1694 - val_accuracy: 0.9480\n",
      "Epoch 70/200\n",
      "458/458 [==============================] - 1s 3ms/step - loss: 0.3447 - accuracy: 0.8209 - val_loss: 0.1631 - val_accuracy: 0.9507\n",
      "Epoch 71/200\n",
      "458/458 [==============================] - 1s 3ms/step - loss: 0.3465 - accuracy: 0.8245 - val_loss: 0.1514 - val_accuracy: 0.9639\n",
      "Epoch 72/200\n",
      "458/458 [==============================] - 1s 3ms/step - loss: 0.3305 - accuracy: 0.8369 - val_loss: 0.1513 - val_accuracy: 0.9579\n",
      "Epoch 73/200\n",
      "458/458 [==============================] - 1s 3ms/step - loss: 0.3383 - accuracy: 0.8311 - val_loss: 0.1475 - val_accuracy: 0.9622\n",
      "Epoch 74/200\n",
      "458/458 [==============================] - 1s 3ms/step - loss: 0.3341 - accuracy: 0.8298 - val_loss: 0.1558 - val_accuracy: 0.9561\n",
      "Epoch 75/200\n",
      "458/458 [==============================] - 1s 3ms/step - loss: 0.3446 - accuracy: 0.8207 - val_loss: 0.1536 - val_accuracy: 0.9639\n",
      "Epoch 76/200\n",
      "458/458 [==============================] - 2s 4ms/step - loss: 0.3396 - accuracy: 0.8284 - val_loss: 0.1484 - val_accuracy: 0.9585\n",
      "Epoch 77/200\n",
      "458/458 [==============================] - 1s 3ms/step - loss: 0.3302 - accuracy: 0.8347 - val_loss: 0.1503 - val_accuracy: 0.9563\n",
      "Epoch 78/200\n",
      "458/458 [==============================] - 1s 3ms/step - loss: 0.3354 - accuracy: 0.8198 - val_loss: 0.1530 - val_accuracy: 0.9620\n",
      "Epoch 00078: early stopping\n"
     ]
    },
    {
     "data": {
      "text/plain": [
       "<tensorflow.python.keras.callbacks.History at 0x1d5242aba60>"
      ]
     },
     "execution_count": 48,
     "metadata": {},
     "output_type": "execute_result"
    }
   ],
   "source": [
    "model.fit(x=X_train, y=y_train, \n",
    "          validation_data=(X_test,y_test),\n",
    "          epochs=200,\n",
    "          callbacks=[early_stop])"
   ]
  },
  {
   "cell_type": "markdown",
   "metadata": {},
   "source": [
    "## Model Evaluation"
   ]
  },
  {
   "cell_type": "code",
   "execution_count": 49,
   "metadata": {},
   "outputs": [],
   "source": [
    "eval_df = pd.DataFrame(model.history.history)"
   ]
  },
  {
   "cell_type": "code",
   "execution_count": 50,
   "metadata": {},
   "outputs": [
    {
     "data": {
      "text/plain": [
       "<matplotlib.axes._subplots.AxesSubplot at 0x1d52a04bcd0>"
      ]
     },
     "execution_count": 50,
     "metadata": {},
     "output_type": "execute_result"
    },
    {
     "data": {
      "image/png": "[encoded data removed]",
      "text/plain": [
       "<Figure size 432x288 with 1 Axes>"
      ]
     },
     "metadata": {},
     "output_type": "display_data"
    }
   ],
   "source": [
    "eval_df[['loss','val_loss']].plot()"
   ]
  },
  {
   "cell_type": "code",
   "execution_count": 51,
   "metadata": {},
   "outputs": [
    {
     "data": {
      "text/plain": [
       "<matplotlib.axes._subplots.AxesSubplot at 0x1d52a1908e0>"
      ]
     },
     "execution_count": 51,
     "metadata": {},
     "output_type": "execute_result"
    },
    {
     "data": {
      "image/png": "[encoded data removed]",
      "text/plain": [
       "<Figure size 432x288 with 1 Axes>"
      ]
     },
     "metadata": {},
     "output_type": "display_data"
    }
   ],
   "source": [
    "eval_df[['accuracy','val_accuracy']].plot()"
   ]
  },
  {
   "cell_type": "code",
   "execution_count": 52,
   "metadata": {},
   "outputs": [
    {
     "name": "stdout",
     "output_type": "stream",
     "text": [
      "196/196 [==============================] - 0s 1ms/step - loss: 0.1530 - accuracy: 0.9620\n"
     ]
    }
   ],
   "source": [
    "loss, accuracy = model.evaluate(X_test, y_test)"
   ]
  },
  {
   "cell_type": "code",
   "execution_count": 56,
   "metadata": {},
   "outputs": [
    {
     "name": "stdout",
     "output_type": "stream",
     "text": [
      "Model accuracy on test dataset: 96.2 %\n"
     ]
    }
   ],
   "source": [
    "print('Model accuracy on test dataset:',round(accuracy*100,2),\"%\")"
   ]
  },
  {
   "cell_type": "markdown",
   "metadata": {},
   "source": [
    "## Training model on complete dataset"
   ]
  },
  {
   "cell_type": "code",
   "execution_count": 57,
   "metadata": {},
   "outputs": [],
   "source": [
    "scaled_X = scaler.transform(X)"
   ]
  },
  {
   "cell_type": "code",
   "execution_count": 58,
   "metadata": {},
   "outputs": [],
   "source": [
    "model = Sequential()\n",
    "\n",
    "model.add(Dense(units=30,activation='relu'))\n",
    "model.add(Dropout(rate=0.5))\n",
    "\n",
    "model.add(Dense(units=15,activation='relu'))\n",
    "model.add(Dropout(rate=0.5))\n",
    "\n",
    "# BINARY CLASSIFICATION\n",
    "model.add(Dense(units=1,activation='sigmoid'))\n",
    "\n",
    "model.compile(optimizer='adam',loss='binary_crossentropy', metrics=['accuracy'])"
   ]
  },
  {
   "cell_type": "code",
   "execution_count": 59,
   "metadata": {},
   "outputs": [
    {
     "name": "stdout",
     "output_type": "stream",
     "text": [
      "Epoch 1/75\n",
      "653/653 [==============================] - 2s 2ms/step - loss: 0.7090 - accuracy: 0.5032\n",
      "Epoch 2/75\n",
      "653/653 [==============================] - 1s 2ms/step - loss: 0.6807 - accuracy: 0.5474\n",
      "Epoch 3/75\n",
      "653/653 [==============================] - 1s 2ms/step - loss: 0.6544 - accuracy: 0.5975\n",
      "Epoch 4/75\n",
      "653/653 [==============================] - 1s 2ms/step - loss: 0.6252 - accuracy: 0.6416\n",
      "Epoch 5/75\n",
      "653/653 [==============================] - 1s 2ms/step - loss: 0.5845 - accuracy: 0.6786\n",
      "Epoch 6/75\n",
      "653/653 [==============================] - 1s 2ms/step - loss: 0.5482 - accuracy: 0.7219\n",
      "Epoch 7/75\n",
      "653/653 [==============================] - 1s 2ms/step - loss: 0.5214 - accuracy: 0.7377\n",
      "Epoch 8/75\n",
      "653/653 [==============================] - 1s 2ms/step - loss: 0.4946 - accuracy: 0.7536\n",
      "Epoch 9/75\n",
      "653/653 [==============================] - 1s 2ms/step - loss: 0.4757 - accuracy: 0.7636\n",
      "Epoch 10/75\n",
      "653/653 [==============================] - 1s 2ms/step - loss: 0.4555 - accuracy: 0.7776\n",
      "Epoch 11/75\n",
      "653/653 [==============================] - 1s 2ms/step - loss: 0.4505 - accuracy: 0.7767\n",
      "Epoch 12/75\n",
      "653/653 [==============================] - 1s 2ms/step - loss: 0.4283 - accuracy: 0.7881\n",
      "Epoch 13/75\n",
      "653/653 [==============================] - 1s 2ms/step - loss: 0.4237 - accuracy: 0.7976\n",
      "Epoch 14/75\n",
      "653/653 [==============================] - 1s 2ms/step - loss: 0.4151 - accuracy: 0.7966\n",
      "Epoch 15/75\n",
      "653/653 [==============================] - 1s 2ms/step - loss: 0.4035 - accuracy: 0.8041\n",
      "Epoch 16/75\n",
      "653/653 [==============================] - 1s 2ms/step - loss: 0.4056 - accuracy: 0.8020\n",
      "Epoch 17/75\n",
      "653/653 [==============================] - 1s 2ms/step - loss: 0.3985 - accuracy: 0.8031\n",
      "Epoch 18/75\n",
      "653/653 [==============================] - 1s 2ms/step - loss: 0.3868 - accuracy: 0.8129\n",
      "Epoch 19/75\n",
      "653/653 [==============================] - 1s 2ms/step - loss: 0.3836 - accuracy: 0.8124\n",
      "Epoch 20/75\n",
      "653/653 [==============================] - 1s 2ms/step - loss: 0.3895 - accuracy: 0.8095\n",
      "Epoch 21/75\n",
      "653/653 [==============================] - 1s 2ms/step - loss: 0.3906 - accuracy: 0.8138\n",
      "Epoch 22/75\n",
      "653/653 [==============================] - 1s 2ms/step - loss: 0.3686 - accuracy: 0.8179\n",
      "Epoch 23/75\n",
      "653/653 [==============================] - 1s 2ms/step - loss: 0.3776 - accuracy: 0.8168\n",
      "Epoch 24/75\n",
      "653/653 [==============================] - 1s 2ms/step - loss: 0.3719 - accuracy: 0.8196\n",
      "Epoch 25/75\n",
      "653/653 [==============================] - 1s 2ms/step - loss: 0.3704 - accuracy: 0.8214\n",
      "Epoch 26/75\n",
      "653/653 [==============================] - 1s 2ms/step - loss: 0.3746 - accuracy: 0.8151\n",
      "Epoch 27/75\n",
      "653/653 [==============================] - 1s 2ms/step - loss: 0.3616 - accuracy: 0.8262\n",
      "Epoch 28/75\n",
      "653/653 [==============================] - 1s 2ms/step - loss: 0.3600 - accuracy: 0.8219\n",
      "Epoch 29/75\n",
      "653/653 [==============================] - 1s 2ms/step - loss: 0.3698 - accuracy: 0.8264\n",
      "Epoch 30/75\n",
      "653/653 [==============================] - 1s 2ms/step - loss: 0.3562 - accuracy: 0.8262\n",
      "Epoch 31/75\n",
      "653/653 [==============================] - 1s 2ms/step - loss: 0.3572 - accuracy: 0.8261\n",
      "Epoch 32/75\n",
      "653/653 [==============================] - 1s 2ms/step - loss: 0.3494 - accuracy: 0.8296\n",
      "Epoch 33/75\n",
      "653/653 [==============================] - ETA: 0s - loss: 0.3586 - accuracy: 0.82 - 1s 2ms/step - loss: 0.3586 - accuracy: 0.8242\n",
      "Epoch 34/75\n",
      "653/653 [==============================] - 1s 2ms/step - loss: 0.3562 - accuracy: 0.8241\n",
      "Epoch 35/75\n",
      "653/653 [==============================] - 1s 2ms/step - loss: 0.3397 - accuracy: 0.8346\n",
      "Epoch 36/75\n",
      "653/653 [==============================] - 1s 2ms/step - loss: 0.3444 - accuracy: 0.8347\n",
      "Epoch 37/75\n",
      "653/653 [==============================] - 1s 2ms/step - loss: 0.3432 - accuracy: 0.8321\n",
      "Epoch 38/75\n",
      "653/653 [==============================] - 1s 2ms/step - loss: 0.3470 - accuracy: 0.8299\n",
      "Epoch 39/75\n",
      "653/653 [==============================] - 1s 2ms/step - loss: 0.3432 - accuracy: 0.8299\n",
      "Epoch 40/75\n",
      "653/653 [==============================] - 1s 2ms/step - loss: 0.3371 - accuracy: 0.8323\n",
      "Epoch 41/75\n",
      "653/653 [==============================] - 1s 2ms/step - loss: 0.3315 - accuracy: 0.8359\n",
      "Epoch 42/75\n",
      "653/653 [==============================] - 1s 2ms/step - loss: 0.3361 - accuracy: 0.8363\n",
      "Epoch 43/75\n",
      "653/653 [==============================] - 1s 2ms/step - loss: 0.3312 - accuracy: 0.8328\n",
      "Epoch 44/75\n",
      "653/653 [==============================] - 1s 2ms/step - loss: 0.3311 - accuracy: 0.8317\n",
      "Epoch 45/75\n",
      "653/653 [==============================] - 1s 2ms/step - loss: 0.3382 - accuracy: 0.8305\n",
      "Epoch 46/75\n",
      "653/653 [==============================] - 1s 2ms/step - loss: 0.3360 - accuracy: 0.8283\n",
      "Epoch 47/75\n",
      "653/653 [==============================] - 1s 2ms/step - loss: 0.3308 - accuracy: 0.8372\n",
      "Epoch 48/75\n",
      "653/653 [==============================] - 1s 2ms/step - loss: 0.3450 - accuracy: 0.8243\n",
      "Epoch 49/75\n",
      "653/653 [==============================] - 1s 2ms/step - loss: 0.3349 - accuracy: 0.8243\n",
      "Epoch 50/75\n",
      "653/653 [==============================] - 1s 2ms/step - loss: 0.3388 - accuracy: 0.8310\n",
      "Epoch 51/75\n",
      "653/653 [==============================] - 1s 2ms/step - loss: 0.3314 - accuracy: 0.8345\n",
      "Epoch 52/75\n",
      "653/653 [==============================] - 1s 2ms/step - loss: 0.3353 - accuracy: 0.8300\n",
      "Epoch 53/75\n",
      "653/653 [==============================] - 1s 2ms/step - loss: 0.3351 - accuracy: 0.8337\n",
      "Epoch 54/75\n",
      "653/653 [==============================] - 1s 2ms/step - loss: 0.3354 - accuracy: 0.8256\n",
      "Epoch 55/75\n",
      "653/653 [==============================] - ETA: 0s - loss: 0.3247 - accuracy: 0.84 - 1s 1ms/step - loss: 0.3248 - accuracy: 0.8411\n",
      "Epoch 56/75\n",
      "653/653 [==============================] - 1s 2ms/step - loss: 0.3344 - accuracy: 0.8330\n",
      "Epoch 57/75\n",
      "653/653 [==============================] - 1s 2ms/step - loss: 0.3227 - accuracy: 0.8323\n",
      "Epoch 58/75\n",
      "653/653 [==============================] - 1s 2ms/step - loss: 0.3253 - accuracy: 0.8334\n",
      "Epoch 59/75\n",
      "653/653 [==============================] - 1s 2ms/step - loss: 0.3365 - accuracy: 0.8253\n",
      "Epoch 60/75\n",
      "653/653 [==============================] - 1s 2ms/step - loss: 0.3248 - accuracy: 0.8398\n",
      "Epoch 61/75\n",
      "653/653 [==============================] - 1s 2ms/step - loss: 0.3292 - accuracy: 0.8364\n",
      "Epoch 62/75\n",
      "653/653 [==============================] - 1s 2ms/step - loss: 0.3247 - accuracy: 0.8397\n",
      "Epoch 63/75\n",
      "653/653 [==============================] - 1s 2ms/step - loss: 0.3256 - accuracy: 0.8363\n",
      "Epoch 64/75\n",
      "653/653 [==============================] - 1s 2ms/step - loss: 0.3204 - accuracy: 0.8380\n",
      "Epoch 65/75\n",
      "653/653 [==============================] - 1s 2ms/step - loss: 0.3205 - accuracy: 0.8347\n",
      "Epoch 66/75\n",
      "653/653 [==============================] - 1s 2ms/step - loss: 0.3299 - accuracy: 0.8354\n",
      "Epoch 67/75\n",
      "653/653 [==============================] - 1s 2ms/step - loss: 0.3325 - accuracy: 0.8341\n",
      "Epoch 68/75\n",
      "653/653 [==============================] - 1s 2ms/step - loss: 0.3349 - accuracy: 0.8290\n",
      "Epoch 69/75\n",
      "653/653 [==============================] - 1s 2ms/step - loss: 0.3320 - accuracy: 0.8294\n",
      "Epoch 70/75\n",
      "653/653 [==============================] - 1s 2ms/step - loss: 0.3287 - accuracy: 0.8352\n",
      "Epoch 71/75\n",
      "653/653 [==============================] - 1s 2ms/step - loss: 0.3277 - accuracy: 0.8267\n",
      "Epoch 72/75\n",
      "653/653 [==============================] - 1s 2ms/step - loss: 0.3387 - accuracy: 0.8255\n",
      "Epoch 73/75\n",
      "653/653 [==============================] - 1s 2ms/step - loss: 0.3172 - accuracy: 0.8373\n",
      "Epoch 74/75\n",
      "653/653 [==============================] - 1s 2ms/step - loss: 0.3238 - accuracy: 0.8335\n",
      "Epoch 75/75\n",
      "653/653 [==============================] - 1s 1ms/step - loss: 0.3289 - accuracy: 0.8351\n"
     ]
    },
    {
     "data": {
      "text/plain": [
       "<tensorflow.python.keras.callbacks.History at 0x1d5291c7700>"
      ]
     },
     "execution_count": 59,
     "metadata": {},
     "output_type": "execute_result"
    }
   ],
   "source": [
    "model.fit(scaled_X,y,epochs=75)"
   ]
  },
  {
   "cell_type": "code",
   "execution_count": 67,
   "metadata": {},
   "outputs": [
    {
     "name": "stdout",
     "output_type": "stream",
     "text": [
      "Model accuracy on complete dataset: 83.38 %\n"
     ]
    }
   ],
   "source": [
    "print('Model accuracy on complete dataset:',round((model.history.history['accuracy'][-1])*100,2),\"%\")"
   ]
  },
  {
   "cell_type": "markdown",
   "metadata": {},
   "source": [
    "## Saving Model"
   ]
  },
  {
   "cell_type": "code",
   "execution_count": 68,
   "metadata": {},
   "outputs": [],
   "source": [
    "model.save('breast_cancer_model.h5')"
   ]
  },
  {
   "cell_type": "code",
   "execution_count": 69,
   "metadata": {},
   "outputs": [
    {
     "data": {
      "text/plain": [
       "['breast_cancer_scaler.pkl']"
      ]
     },
     "execution_count": 69,
     "metadata": {},
     "output_type": "execute_result"
    }
   ],
   "source": [
    "import joblib\n",
    "joblib.dump(scaler,'breast_cancer_scaler.pkl')"
   ]
  }
 ],
 "metadata": {
  "kernelspec": {
   "display_name": "Python 3",
   "language": "python",
   "name": "python3"
  },
  "language_info": {
   "codemirror_mode": {
    "name": "ipython",
    "version": 3
   },
   "file_extension": ".py",
   "mimetype": "text/x-python",
   "name": "python",
   "nbconvert_exporter": "python",
   "pygments_lexer": "ipython3",
   "version": "3.8.3"
  }
 },
 "nbformat": 4,
 "nbformat_minor": 4
}
