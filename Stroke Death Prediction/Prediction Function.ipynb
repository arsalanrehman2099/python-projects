{
 "cells": [
  {
   "cell_type": "markdown",
   "metadata": {},
   "source": [
    "# Stroke Death Model Prediction"
   ]
  },
  {
   "cell_type": "markdown",
   "metadata": {},
   "source": [
    "### Import Libraries"
   ]
  },
  {
   "cell_type": "code",
   "execution_count": 1,
   "metadata": {},
   "outputs": [],
   "source": [
    "import joblib"
   ]
  },
  {
   "cell_type": "markdown",
   "metadata": {},
   "source": [
    "### Load the model"
   ]
  },
  {
   "cell_type": "code",
   "execution_count": 2,
   "metadata": {},
   "outputs": [],
   "source": [
    "model = joblib.load('./ml_model_stroke_death_prediction')"
   ]
  },
  {
   "cell_type": "markdown",
   "metadata": {},
   "source": [
    "### Prediction Function"
   ]
  },
  {
   "cell_type": "code",
   "execution_count": 8,
   "metadata": {},
   "outputs": [],
   "source": [
    "def stroke_pred(model,data):\n",
    "    \n",
    "    pred_gender = pred['gender']\n",
    "    pred_age = pred['age']\n",
    "    pred_hypertension = pred['hypertension']\n",
    "    pred_heart_disease = pred['heart_disease']\n",
    "    pred_ever_married = pred['ever_married']\n",
    "    pred_residence_type = pred['Residence_type']\n",
    "    pred_avg_glucose_level = pred['avg_glucose_level']\n",
    "    pred_bmi = pred['bmi']\n",
    "    pred_never_worked = pred['Never_worked']\n",
    "    pred_private = pred['Private']\n",
    "    pred_self_employed = pred['Self-employed']\n",
    "    pred_children = pred['children']\n",
    "    pred_formerly_smoked = pred['formerly smoked']\n",
    "    pred_never_smoked = pred['never smoked']\n",
    "    pred_smokes = pred['smokes']\n",
    "    \n",
    "    prediction_data = [[pred_gender, pred_age, pred_hypertension,\n",
    "              pred_heart_disease, pred_ever_married,\n",
    "              pred_residence_type, pred_avg_glucose_level,\n",
    "              pred_bmi, pred_never_worked, pred_private, \n",
    "              pred_self_employed, pred_children, pred_formerly_smoked,\n",
    "              pred_never_smoked, pred_smokes]]\n",
    "    \n",
    "    result = model.predict(prediction_data)\n",
    "    \n",
    "    if result[0]==0:\n",
    "        print('You are safe from stroke')\n",
    "    else:\n",
    "        print('You have chances of getting stroke')"
   ]
  },
  {
   "cell_type": "markdown",
   "metadata": {},
   "source": [
    "### Data to be predict"
   ]
  },
  {
   "cell_type": "code",
   "execution_count": 18,
   "metadata": {},
   "outputs": [],
   "source": [
    "user_info = {\n",
    "    'gender':0, #1-male, 0-female\n",
    "    'age':49.0, \n",
    "    'hypertension':0,\n",
    "    'heart_disease':0,\n",
    "    'ever_married':1,\n",
    "    'Residence_type':1, #1-urban, 0-rural\n",
    "    'avg_glucose_level':94.0,\n",
    "    'bmi':21.9,\n",
    "#     'Govt_job':0,\n",
    "    'Never_worked':1,\n",
    "    'Private':0,\n",
    "    'Self-employed':0,\n",
    "    'children':1,\n",
    "#     'Unknown':0,\n",
    "    'formerly smoked':0,\n",
    "    'never smoked':1,\n",
    "    'smokes':0\n",
    "}"
   ]
  },
  {
   "cell_type": "markdown",
   "metadata": {},
   "source": [
    "### Prediction Call"
   ]
  },
  {
   "cell_type": "code",
   "execution_count": 19,
   "metadata": {},
   "outputs": [
    {
     "name": "stdout",
     "output_type": "stream",
     "text": [
      "You are safe from stroke\n"
     ]
    }
   ],
   "source": [
    "stroke_pred(model,user_info)"
   ]
  },
  {
   "cell_type": "code",
   "execution_count": null,
   "metadata": {},
   "outputs": [],
   "source": []
  }
 ],
 "metadata": {
  "kernelspec": {
   "display_name": "Python 3",
   "language": "python",
   "name": "python3"
  },
  "language_info": {
   "codemirror_mode": {
    "name": "ipython",
    "version": 3
   },
   "file_extension": ".py",
   "mimetype": "text/x-python",
   "name": "python",
   "nbconvert_exporter": "python",
   "pygments_lexer": "ipython3",
   "version": "3.8.3"
  }
 },
 "nbformat": 4,
 "nbformat_minor": 4
}
